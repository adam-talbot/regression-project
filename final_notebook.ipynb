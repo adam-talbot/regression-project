{
 "cells": [
  {
   "cell_type": "markdown",
   "id": "0b98b655-fcb8-46c6-9320-1d8a7f32b5da",
   "metadata": {},
   "source": [
    "---\n",
    "# Zillow Regression Project \n",
    "---"
   ]
  },
  {
   "cell_type": "markdown",
   "id": "eb25e92a-a8f3-415d-b32f-b7fac9f9b63d",
   "metadata": {},
   "source": [
    "<img src=\"https://1000logos.net/wp-content/uploads/2017/12/Zillow_logo_PNG2.png\" alt=\"Zillow\" title=\"Zillow Logo\" width=\"400\" height=\"200\" />"
   ]
  },
  {
   "cell_type": "markdown",
   "id": "92e630a2-5680-4843-a4dc-93871ef530a0",
   "metadata": {},
   "source": [
    "---\n",
    "## Executive Summary\n",
    "---"
   ]
  },
  {
   "cell_type": "code",
   "execution_count": 1,
   "id": "4327548d-1bfb-48a7-a24c-637745d9677d",
   "metadata": {},
   "outputs": [],
   "source": [
    "# add this later"
   ]
  },
  {
   "cell_type": "markdown",
   "id": "7ecd6d49-3fe6-43f4-8ae9-7af4c934665c",
   "metadata": {},
   "source": [
    "---\n",
    "## Plan\n",
    "---"
   ]
  },
  {
   "cell_type": "code",
   "execution_count": 2,
   "id": "da6de6c3-3159-48de-ad66-33add11e80b6",
   "metadata": {},
   "outputs": [],
   "source": [
    "# add this later (if at all)"
   ]
  },
  {
   "cell_type": "markdown",
   "id": "d326f008-3ba3-41c0-ac9d-f5f61f23eadc",
   "metadata": {},
   "source": [
    "---\n",
    "## Acquire\n",
    "---"
   ]
  },
  {
   "cell_type": "code",
   "execution_count": 3,
   "id": "5ab70d5f-1a4c-49a6-b346-3d3850ca978a",
   "metadata": {},
   "outputs": [],
   "source": [
    "# standard imports\n",
    "import pandas as pd\n",
    "import numpy as np\n",
    "import seaborn as sns\n",
    "import matplotlib.pyplot as plt\n",
    "\n",
    "# sklearn imports\n",
    "from sklearn.metrics import mean_squared_error, explained_variance_score\n",
    "from sklearn.linear_model import LinearRegression, LassoLars, TweedieRegressor\n",
    "from sklearn.preprocessing import PolynomialFeatures, MinMaxScaler\n",
    "\n",
    "# ignore warnings\n",
    "import warnings\n",
    "warnings.filterwarnings(\"ignore\")\n",
    "\n",
    "# Custom module imports\n",
    "import wrangle as w"
   ]
  },
  {
   "cell_type": "code",
   "execution_count": 4,
   "id": "34404759-31c3-4425-b021-5c6843a73bcd",
   "metadata": {},
   "outputs": [],
   "source": [
    "# use function from wrangle module to acquire needed data, see wrangle.py for code\n",
    "df = w.get_zillow_sfr_data()"
   ]
  },
  {
   "cell_type": "code",
   "execution_count": 5,
   "id": "692bc3d2-cfc9-4fe1-ade0-40be5eba885a",
   "metadata": {},
   "outputs": [
    {
     "data": {
      "text/plain": [
       "(28124, 8)"
      ]
     },
     "execution_count": 5,
     "metadata": {},
     "output_type": "execute_result"
    }
   ],
   "source": [
    "df.shape"
   ]
  },
  {
   "cell_type": "code",
   "execution_count": 6,
   "id": "4f89142e-c0d5-47d0-8bfe-12d6aa3a5a8d",
   "metadata": {},
   "outputs": [
    {
     "data": {
      "text/html": [
       "<div>\n",
       "<style scoped>\n",
       "    .dataframe tbody tr th:only-of-type {\n",
       "        vertical-align: middle;\n",
       "    }\n",
       "\n",
       "    .dataframe tbody tr th {\n",
       "        vertical-align: top;\n",
       "    }\n",
       "\n",
       "    .dataframe thead th {\n",
       "        text-align: right;\n",
       "    }\n",
       "</style>\n",
       "<table border=\"1\" class=\"dataframe\">\n",
       "  <thead>\n",
       "    <tr style=\"text-align: right;\">\n",
       "      <th></th>\n",
       "      <th>bedroomcnt</th>\n",
       "      <th>bathroomcnt</th>\n",
       "      <th>calculatedfinishedsquarefeet</th>\n",
       "      <th>taxamount</th>\n",
       "      <th>taxvaluedollarcnt</th>\n",
       "      <th>yearbuilt</th>\n",
       "      <th>fips</th>\n",
       "    </tr>\n",
       "  </thead>\n",
       "  <tbody>\n",
       "    <tr>\n",
       "      <th>count</th>\n",
       "      <td>28124.000000</td>\n",
       "      <td>28124.000000</td>\n",
       "      <td>28077.000000</td>\n",
       "      <td>28123.000000</td>\n",
       "      <td>2.812300e+04</td>\n",
       "      <td>28053.000000</td>\n",
       "      <td>28124.000000</td>\n",
       "    </tr>\n",
       "    <tr>\n",
       "      <th>mean</th>\n",
       "      <td>3.309487</td>\n",
       "      <td>2.316509</td>\n",
       "      <td>1934.930014</td>\n",
       "      <td>6508.829263</td>\n",
       "      <td>5.350049e+05</td>\n",
       "      <td>1963.773179</td>\n",
       "      <td>6049.521121</td>\n",
       "    </tr>\n",
       "    <tr>\n",
       "      <th>std</th>\n",
       "      <td>0.943073</td>\n",
       "      <td>1.016983</td>\n",
       "      <td>995.684457</td>\n",
       "      <td>8221.720405</td>\n",
       "      <td>7.076811e+05</td>\n",
       "      <td>23.108952</td>\n",
       "      <td>21.302136</td>\n",
       "    </tr>\n",
       "    <tr>\n",
       "      <th>min</th>\n",
       "      <td>0.000000</td>\n",
       "      <td>0.000000</td>\n",
       "      <td>240.000000</td>\n",
       "      <td>51.260000</td>\n",
       "      <td>1.000000e+03</td>\n",
       "      <td>1878.000000</td>\n",
       "      <td>6037.000000</td>\n",
       "    </tr>\n",
       "    <tr>\n",
       "      <th>25%</th>\n",
       "      <td>3.000000</td>\n",
       "      <td>2.000000</td>\n",
       "      <td>1278.000000</td>\n",
       "      <td>2705.330000</td>\n",
       "      <td>1.986360e+05</td>\n",
       "      <td>1950.000000</td>\n",
       "      <td>6037.000000</td>\n",
       "    </tr>\n",
       "    <tr>\n",
       "      <th>50%</th>\n",
       "      <td>3.000000</td>\n",
       "      <td>2.000000</td>\n",
       "      <td>1675.000000</td>\n",
       "      <td>4735.280000</td>\n",
       "      <td>3.827980e+05</td>\n",
       "      <td>1961.000000</td>\n",
       "      <td>6037.000000</td>\n",
       "    </tr>\n",
       "    <tr>\n",
       "      <th>75%</th>\n",
       "      <td>4.000000</td>\n",
       "      <td>3.000000</td>\n",
       "      <td>2326.000000</td>\n",
       "      <td>7528.405000</td>\n",
       "      <td>6.327670e+05</td>\n",
       "      <td>1979.000000</td>\n",
       "      <td>6059.000000</td>\n",
       "    </tr>\n",
       "    <tr>\n",
       "      <th>max</th>\n",
       "      <td>12.000000</td>\n",
       "      <td>11.000000</td>\n",
       "      <td>17245.000000</td>\n",
       "      <td>276797.830000</td>\n",
       "      <td>2.385837e+07</td>\n",
       "      <td>2016.000000</td>\n",
       "      <td>6111.000000</td>\n",
       "    </tr>\n",
       "  </tbody>\n",
       "</table>\n",
       "</div>"
      ],
      "text/plain": [
       "         bedroomcnt   bathroomcnt  calculatedfinishedsquarefeet  \\\n",
       "count  28124.000000  28124.000000                  28077.000000   \n",
       "mean       3.309487      2.316509                   1934.930014   \n",
       "std        0.943073      1.016983                    995.684457   \n",
       "min        0.000000      0.000000                    240.000000   \n",
       "25%        3.000000      2.000000                   1278.000000   \n",
       "50%        3.000000      2.000000                   1675.000000   \n",
       "75%        4.000000      3.000000                   2326.000000   \n",
       "max       12.000000     11.000000                  17245.000000   \n",
       "\n",
       "           taxamount  taxvaluedollarcnt     yearbuilt          fips  \n",
       "count   28123.000000       2.812300e+04  28053.000000  28124.000000  \n",
       "mean     6508.829263       5.350049e+05   1963.773179   6049.521121  \n",
       "std      8221.720405       7.076811e+05     23.108952     21.302136  \n",
       "min        51.260000       1.000000e+03   1878.000000   6037.000000  \n",
       "25%      2705.330000       1.986360e+05   1950.000000   6037.000000  \n",
       "50%      4735.280000       3.827980e+05   1961.000000   6037.000000  \n",
       "75%      7528.405000       6.327670e+05   1979.000000   6059.000000  \n",
       "max    276797.830000       2.385837e+07   2016.000000   6111.000000  "
      ]
     },
     "execution_count": 6,
     "metadata": {},
     "output_type": "execute_result"
    }
   ],
   "source": [
    "df.describe()"
   ]
  },
  {
   "cell_type": "code",
   "execution_count": 7,
   "id": "0a5da59d-d03e-4985-9f62-d30910d7bc4a",
   "metadata": {},
   "outputs": [
    {
     "name": "stdout",
     "output_type": "stream",
     "text": [
      "<class 'pandas.core.frame.DataFrame'>\n",
      "Int64Index: 28124 entries, 0 to 28123\n",
      "Data columns (total 8 columns):\n",
      " #   Column                        Non-Null Count  Dtype  \n",
      "---  ------                        --------------  -----  \n",
      " 0   bedroomcnt                    28124 non-null  float64\n",
      " 1   bathroomcnt                   28124 non-null  float64\n",
      " 2   calculatedfinishedsquarefeet  28077 non-null  float64\n",
      " 3   taxamount                     28123 non-null  float64\n",
      " 4   taxvaluedollarcnt             28123 non-null  float64\n",
      " 5   yearbuilt                     28053 non-null  float64\n",
      " 6   fips                          28124 non-null  float64\n",
      " 7   transactiondate               28124 non-null  object \n",
      "dtypes: float64(7), object(1)\n",
      "memory usage: 1.9+ MB\n"
     ]
    }
   ],
   "source": [
    "df.info()"
   ]
  },
  {
   "cell_type": "code",
   "execution_count": 8,
   "id": "308c011d-4e96-4e63-9925-91cc41c289ee",
   "metadata": {},
   "outputs": [
    {
     "data": {
      "image/png": "[encoded data removed]",
      "text/plain": [
       "<Figure size 2160x216 with 7 Axes>"
      ]
     },
     "metadata": {
      "needs_background": "light"
     },
     "output_type": "display_data"
    }
   ],
   "source": [
    "w.plot_distributions(df)"
   ]
  },
  {
   "cell_type": "code",
   "execution_count": 9,
   "id": "97104e52-214f-4bd6-827a-95ed35105204",
   "metadata": {},
   "outputs": [
    {
     "data": {
      "image/png": "[encoded data removed]",
      "text/plain": [
       "<Figure size 2160x864 with 7 Axes>"
      ]
     },
     "metadata": {
      "needs_background": "light"
     },
     "output_type": "display_data"
    }
   ],
   "source": [
    "w.plot_boxplots(df)"
   ]
  },
  {
   "cell_type": "markdown",
   "id": "cea51c9c-1364-49df-9971-aae7f4bc2610",
   "metadata": {},
   "source": [
    "### Takeaways:\n",
    "- Have some outliers/erroneous data in all columns\n",
    "- fips isn't actually numeric and should be changed to string"
   ]
  },
  {
   "cell_type": "markdown",
   "id": "7d1018ec-8b48-4444-b830-dd3722cfad07",
   "metadata": {},
   "source": [
    "---\n",
    "## Prepare\n",
    "---"
   ]
  },
  {
   "cell_type": "markdown",
   "id": "2cf9bd0b-774f-4cf6-b715-2493a34388d7",
   "metadata": {},
   "source": [
    "### Clean\n",
    "- Dropped nulls\n",
    "- Dropped duplicate rows\n",
    "- Reformatted `fips` as string data type and preserved leading 0\n",
    "- Adjusted data types of columns to more appropriately represent information\n",
    "- Renamed columns for readability\n",
    "- Added `tax_rate` column\n",
    "- Eliminated outliers using `1.5*IQR Rule`"
   ]
  },
  {
   "cell_type": "code",
   "execution_count": 10,
   "id": "d8d46455-08ac-449b-84d3-07778f746f96",
   "metadata": {},
   "outputs": [
    {
     "data": {
      "text/html": [
       "<div>\n",
       "<style scoped>\n",
       "    .dataframe tbody tr th:only-of-type {\n",
       "        vertical-align: middle;\n",
       "    }\n",
       "\n",
       "    .dataframe tbody tr th {\n",
       "        vertical-align: top;\n",
       "    }\n",
       "\n",
       "    .dataframe thead th {\n",
       "        text-align: right;\n",
       "    }\n",
       "</style>\n",
       "<table border=\"1\" class=\"dataframe\">\n",
       "  <thead>\n",
       "    <tr style=\"text-align: right;\">\n",
       "      <th></th>\n",
       "      <th>bedroom_cnt</th>\n",
       "      <th>bathroom_cnt</th>\n",
       "      <th>sqft</th>\n",
       "      <th>prop_tax</th>\n",
       "      <th>appraised_value</th>\n",
       "      <th>year_built</th>\n",
       "      <th>fips</th>\n",
       "      <th>transaction_date</th>\n",
       "      <th>tax_rate</th>\n",
       "    </tr>\n",
       "  </thead>\n",
       "  <tbody>\n",
       "    <tr>\n",
       "      <th>0</th>\n",
       "      <td>3</td>\n",
       "      <td>2.0</td>\n",
       "      <td>1316</td>\n",
       "      <td>2627.48</td>\n",
       "      <td>205123.0</td>\n",
       "      <td>1923</td>\n",
       "      <td>06037</td>\n",
       "      <td>2017-07-21</td>\n",
       "      <td>0.012809</td>\n",
       "    </tr>\n",
       "    <tr>\n",
       "      <th>1</th>\n",
       "      <td>3</td>\n",
       "      <td>2.0</td>\n",
       "      <td>1458</td>\n",
       "      <td>2319.90</td>\n",
       "      <td>136104.0</td>\n",
       "      <td>1970</td>\n",
       "      <td>06037</td>\n",
       "      <td>2017-06-23</td>\n",
       "      <td>0.017045</td>\n",
       "    </tr>\n",
       "    <tr>\n",
       "      <th>2</th>\n",
       "      <td>2</td>\n",
       "      <td>1.0</td>\n",
       "      <td>1421</td>\n",
       "      <td>543.69</td>\n",
       "      <td>35606.0</td>\n",
       "      <td>1911</td>\n",
       "      <td>06037</td>\n",
       "      <td>2017-06-30</td>\n",
       "      <td>0.015270</td>\n",
       "    </tr>\n",
       "    <tr>\n",
       "      <th>3</th>\n",
       "      <td>4</td>\n",
       "      <td>3.0</td>\n",
       "      <td>2541</td>\n",
       "      <td>9819.72</td>\n",
       "      <td>880456.0</td>\n",
       "      <td>2003</td>\n",
       "      <td>06059</td>\n",
       "      <td>2017-06-01</td>\n",
       "      <td>0.011153</td>\n",
       "    </tr>\n",
       "    <tr>\n",
       "      <th>4</th>\n",
       "      <td>3</td>\n",
       "      <td>2.0</td>\n",
       "      <td>1491</td>\n",
       "      <td>1399.27</td>\n",
       "      <td>107110.0</td>\n",
       "      <td>1955</td>\n",
       "      <td>06037</td>\n",
       "      <td>2017-08-23</td>\n",
       "      <td>0.013064</td>\n",
       "    </tr>\n",
       "  </tbody>\n",
       "</table>\n",
       "</div>"
      ],
      "text/plain": [
       "   bedroom_cnt  bathroom_cnt  sqft  prop_tax  appraised_value  year_built  \\\n",
       "0            3           2.0  1316   2627.48         205123.0        1923   \n",
       "1            3           2.0  1458   2319.90         136104.0        1970   \n",
       "2            2           1.0  1421    543.69          35606.0        1911   \n",
       "3            4           3.0  2541   9819.72         880456.0        2003   \n",
       "4            3           2.0  1491   1399.27         107110.0        1955   \n",
       "\n",
       "    fips transaction_date  tax_rate  \n",
       "0  06037       2017-07-21  0.012809  \n",
       "1  06037       2017-06-23  0.017045  \n",
       "2  06037       2017-06-30  0.015270  \n",
       "3  06059       2017-06-01  0.011153  \n",
       "4  06037       2017-08-23  0.013064  "
      ]
     },
     "execution_count": 10,
     "metadata": {},
     "output_type": "execute_result"
    }
   ],
   "source": [
    "# use function to clean data, see wrangle.py for code\n",
    "df = w.wrangle_zillow_no_split()\n",
    "df.head()"
   ]
  },
  {
   "cell_type": "code",
   "execution_count": 11,
   "id": "6dc923f1-ad78-47ea-861f-e69bb3af50ef",
   "metadata": {},
   "outputs": [
    {
     "data": {
      "image/png": "[encoded data removed]",
      "text/plain": [
       "<Figure size 2160x216 with 7 Axes>"
      ]
     },
     "metadata": {
      "needs_background": "light"
     },
     "output_type": "display_data"
    }
   ],
   "source": [
    "# check distributions after cleaning and removing outliers\n",
    "w.plot_distributions(df)"
   ]
  },
  {
   "cell_type": "code",
   "execution_count": 12,
   "id": "ccd735ed-301f-4da1-a1e5-61bf57ccf333",
   "metadata": {},
   "outputs": [
    {
     "data": {
      "image/png": "[encoded data removed]",
      "text/plain": [
       "<Figure size 2160x864 with 7 Axes>"
      ]
     },
     "metadata": {
      "needs_background": "light"
     },
     "output_type": "display_data"
    }
   ],
   "source": [
    "# check boxplots after cleaning and removing outliers\n",
    "w.plot_boxplots(df)"
   ]
  },
  {
   "cell_type": "code",
   "execution_count": 13,
   "id": "36b99b01-436f-41b6-af72-8d1abe2b8a64",
   "metadata": {},
   "outputs": [
    {
     "data": {
      "text/html": [
       "<div>\n",
       "<style scoped>\n",
       "    .dataframe tbody tr th:only-of-type {\n",
       "        vertical-align: middle;\n",
       "    }\n",
       "\n",
       "    .dataframe tbody tr th {\n",
       "        vertical-align: top;\n",
       "    }\n",
       "\n",
       "    .dataframe thead th {\n",
       "        text-align: right;\n",
       "    }\n",
       "</style>\n",
       "<table border=\"1\" class=\"dataframe\">\n",
       "  <thead>\n",
       "    <tr style=\"text-align: right;\">\n",
       "      <th></th>\n",
       "      <th>bedroom_cnt</th>\n",
       "      <th>bathroom_cnt</th>\n",
       "      <th>sqft</th>\n",
       "      <th>prop_tax</th>\n",
       "      <th>appraised_value</th>\n",
       "      <th>year_built</th>\n",
       "      <th>fips</th>\n",
       "      <th>transaction_date</th>\n",
       "      <th>tax_rate</th>\n",
       "    </tr>\n",
       "  </thead>\n",
       "  <tbody>\n",
       "    <tr>\n",
       "      <th>0</th>\n",
       "      <td>3</td>\n",
       "      <td>2.0</td>\n",
       "      <td>1316</td>\n",
       "      <td>2627.48</td>\n",
       "      <td>205123.0</td>\n",
       "      <td>1923</td>\n",
       "      <td>06037</td>\n",
       "      <td>2017-07-21</td>\n",
       "      <td>0.012809</td>\n",
       "    </tr>\n",
       "    <tr>\n",
       "      <th>1</th>\n",
       "      <td>3</td>\n",
       "      <td>2.0</td>\n",
       "      <td>1458</td>\n",
       "      <td>2319.90</td>\n",
       "      <td>136104.0</td>\n",
       "      <td>1970</td>\n",
       "      <td>06037</td>\n",
       "      <td>2017-06-23</td>\n",
       "      <td>0.017045</td>\n",
       "    </tr>\n",
       "    <tr>\n",
       "      <th>2</th>\n",
       "      <td>2</td>\n",
       "      <td>1.0</td>\n",
       "      <td>1421</td>\n",
       "      <td>543.69</td>\n",
       "      <td>35606.0</td>\n",
       "      <td>1911</td>\n",
       "      <td>06037</td>\n",
       "      <td>2017-06-30</td>\n",
       "      <td>0.015270</td>\n",
       "    </tr>\n",
       "    <tr>\n",
       "      <th>3</th>\n",
       "      <td>4</td>\n",
       "      <td>3.0</td>\n",
       "      <td>2541</td>\n",
       "      <td>9819.72</td>\n",
       "      <td>880456.0</td>\n",
       "      <td>2003</td>\n",
       "      <td>06059</td>\n",
       "      <td>2017-06-01</td>\n",
       "      <td>0.011153</td>\n",
       "    </tr>\n",
       "    <tr>\n",
       "      <th>4</th>\n",
       "      <td>3</td>\n",
       "      <td>2.0</td>\n",
       "      <td>1491</td>\n",
       "      <td>1399.27</td>\n",
       "      <td>107110.0</td>\n",
       "      <td>1955</td>\n",
       "      <td>06037</td>\n",
       "      <td>2017-08-23</td>\n",
       "      <td>0.013064</td>\n",
       "    </tr>\n",
       "  </tbody>\n",
       "</table>\n",
       "</div>"
      ],
      "text/plain": [
       "   bedroom_cnt  bathroom_cnt  sqft  prop_tax  appraised_value  year_built  \\\n",
       "0            3           2.0  1316   2627.48         205123.0        1923   \n",
       "1            3           2.0  1458   2319.90         136104.0        1970   \n",
       "2            2           1.0  1421    543.69          35606.0        1911   \n",
       "3            4           3.0  2541   9819.72         880456.0        2003   \n",
       "4            3           2.0  1491   1399.27         107110.0        1955   \n",
       "\n",
       "    fips transaction_date  tax_rate  \n",
       "0  06037       2017-07-21  0.012809  \n",
       "1  06037       2017-06-23  0.017045  \n",
       "2  06037       2017-06-30  0.015270  \n",
       "3  06059       2017-06-01  0.011153  \n",
       "4  06037       2017-08-23  0.013064  "
      ]
     },
     "execution_count": 13,
     "metadata": {},
     "output_type": "execute_result"
    }
   ],
   "source": [
    "df.head()"
   ]
  },
  {
   "cell_type": "markdown",
   "id": "b7211ef1-bc7a-4c1d-8cc8-9fb4284a0b9b",
   "metadata": {},
   "source": [
    "---\n",
    "### Encode"
   ]
  },
  {
   "cell_type": "code",
   "execution_count": 25,
   "id": "e625f18f-a9a9-44d3-8ba6-a665ecaff490",
   "metadata": {},
   "outputs": [
    {
     "data": {
      "text/html": [
       "<div>\n",
       "<style scoped>\n",
       "    .dataframe tbody tr th:only-of-type {\n",
       "        vertical-align: middle;\n",
       "    }\n",
       "\n",
       "    .dataframe tbody tr th {\n",
       "        vertical-align: top;\n",
       "    }\n",
       "\n",
       "    .dataframe thead th {\n",
       "        text-align: right;\n",
       "    }\n",
       "</style>\n",
       "<table border=\"1\" class=\"dataframe\">\n",
       "  <thead>\n",
       "    <tr style=\"text-align: right;\">\n",
       "      <th></th>\n",
       "      <th>bedroom_cnt</th>\n",
       "      <th>bathroom_cnt</th>\n",
       "      <th>sqft</th>\n",
       "      <th>appraised_value</th>\n",
       "      <th>year_built</th>\n",
       "      <th>fips_06037</th>\n",
       "      <th>fips_06059</th>\n",
       "      <th>fips_06111</th>\n",
       "    </tr>\n",
       "  </thead>\n",
       "  <tbody>\n",
       "    <tr>\n",
       "      <th>0</th>\n",
       "      <td>3</td>\n",
       "      <td>2.0</td>\n",
       "      <td>1316</td>\n",
       "      <td>205123.0</td>\n",
       "      <td>1923</td>\n",
       "      <td>1</td>\n",
       "      <td>0</td>\n",
       "      <td>0</td>\n",
       "    </tr>\n",
       "    <tr>\n",
       "      <th>1</th>\n",
       "      <td>3</td>\n",
       "      <td>2.0</td>\n",
       "      <td>1458</td>\n",
       "      <td>136104.0</td>\n",
       "      <td>1970</td>\n",
       "      <td>1</td>\n",
       "      <td>0</td>\n",
       "      <td>0</td>\n",
       "    </tr>\n",
       "    <tr>\n",
       "      <th>2</th>\n",
       "      <td>2</td>\n",
       "      <td>1.0</td>\n",
       "      <td>1421</td>\n",
       "      <td>35606.0</td>\n",
       "      <td>1911</td>\n",
       "      <td>1</td>\n",
       "      <td>0</td>\n",
       "      <td>0</td>\n",
       "    </tr>\n",
       "    <tr>\n",
       "      <th>3</th>\n",
       "      <td>4</td>\n",
       "      <td>3.0</td>\n",
       "      <td>2541</td>\n",
       "      <td>880456.0</td>\n",
       "      <td>2003</td>\n",
       "      <td>0</td>\n",
       "      <td>1</td>\n",
       "      <td>0</td>\n",
       "    </tr>\n",
       "    <tr>\n",
       "      <th>4</th>\n",
       "      <td>3</td>\n",
       "      <td>2.0</td>\n",
       "      <td>1491</td>\n",
       "      <td>107110.0</td>\n",
       "      <td>1955</td>\n",
       "      <td>1</td>\n",
       "      <td>0</td>\n",
       "      <td>0</td>\n",
       "    </tr>\n",
       "  </tbody>\n",
       "</table>\n",
       "</div>"
      ],
      "text/plain": [
       "   bedroom_cnt  bathroom_cnt  sqft  appraised_value  year_built  fips_06037  \\\n",
       "0            3           2.0  1316         205123.0        1923           1   \n",
       "1            3           2.0  1458         136104.0        1970           1   \n",
       "2            2           1.0  1421          35606.0        1911           1   \n",
       "3            4           3.0  2541         880456.0        2003           0   \n",
       "4            3           2.0  1491         107110.0        1955           1   \n",
       "\n",
       "   fips_06059  fips_06111  \n",
       "0           0           0  \n",
       "1           0           0  \n",
       "2           0           0  \n",
       "3           1           0  \n",
       "4           0           0  "
      ]
     },
     "execution_count": 25,
     "metadata": {},
     "output_type": "execute_result"
    }
   ],
   "source": [
    "# fips will need to be encoded since it is categorical\n",
    "# I will drop columns derived from target since they will not be used in model\n",
    "df_modeling = pd.get_dummies(data=df, columns=['fips'])\n",
    "df_modeling = df_modeling.drop(columns=['prop_tax', 'tax_rate', 'transaction_date'])\n",
    "df_modeling.head()"
   ]
  },
  {
   "cell_type": "markdown",
   "id": "1d786a8c-84af-46b1-8ec2-b3fc6cd4f03f",
   "metadata": {},
   "source": [
    "---\n",
    "### Split"
   ]
  },
  {
   "cell_type": "code",
   "execution_count": 26,
   "id": "cd4e21b1-5d5e-4f37-b7da-021763c963db",
   "metadata": {},
   "outputs": [
    {
     "name": "stdout",
     "output_type": "stream",
     "text": [
      "(17309, 8) (2140, 8) (2162, 8)\n"
     ]
    },
    {
     "data": {
      "text/html": [
       "<div>\n",
       "<style scoped>\n",
       "    .dataframe tbody tr th:only-of-type {\n",
       "        vertical-align: middle;\n",
       "    }\n",
       "\n",
       "    .dataframe tbody tr th {\n",
       "        vertical-align: top;\n",
       "    }\n",
       "\n",
       "    .dataframe thead th {\n",
       "        text-align: right;\n",
       "    }\n",
       "</style>\n",
       "<table border=\"1\" class=\"dataframe\">\n",
       "  <thead>\n",
       "    <tr style=\"text-align: right;\">\n",
       "      <th></th>\n",
       "      <th>bedroom_cnt</th>\n",
       "      <th>bathroom_cnt</th>\n",
       "      <th>sqft</th>\n",
       "      <th>appraised_value</th>\n",
       "      <th>year_built</th>\n",
       "      <th>fips_06037</th>\n",
       "      <th>fips_06059</th>\n",
       "      <th>fips_06111</th>\n",
       "    </tr>\n",
       "  </thead>\n",
       "  <tbody>\n",
       "    <tr>\n",
       "      <th>22113</th>\n",
       "      <td>3</td>\n",
       "      <td>2.0</td>\n",
       "      <td>1422</td>\n",
       "      <td>525223.0</td>\n",
       "      <td>1947</td>\n",
       "      <td>1</td>\n",
       "      <td>0</td>\n",
       "      <td>0</td>\n",
       "    </tr>\n",
       "    <tr>\n",
       "      <th>11771</th>\n",
       "      <td>4</td>\n",
       "      <td>3.0</td>\n",
       "      <td>1688</td>\n",
       "      <td>414349.0</td>\n",
       "      <td>1960</td>\n",
       "      <td>1</td>\n",
       "      <td>0</td>\n",
       "      <td>0</td>\n",
       "    </tr>\n",
       "    <tr>\n",
       "      <th>16027</th>\n",
       "      <td>4</td>\n",
       "      <td>2.5</td>\n",
       "      <td>2044</td>\n",
       "      <td>424126.0</td>\n",
       "      <td>1992</td>\n",
       "      <td>0</td>\n",
       "      <td>1</td>\n",
       "      <td>0</td>\n",
       "    </tr>\n",
       "    <tr>\n",
       "      <th>3443</th>\n",
       "      <td>3</td>\n",
       "      <td>2.0</td>\n",
       "      <td>1215</td>\n",
       "      <td>431814.0</td>\n",
       "      <td>1971</td>\n",
       "      <td>0</td>\n",
       "      <td>0</td>\n",
       "      <td>1</td>\n",
       "    </tr>\n",
       "    <tr>\n",
       "      <th>19279</th>\n",
       "      <td>3</td>\n",
       "      <td>3.0</td>\n",
       "      <td>2192</td>\n",
       "      <td>599606.0</td>\n",
       "      <td>1975</td>\n",
       "      <td>1</td>\n",
       "      <td>0</td>\n",
       "      <td>0</td>\n",
       "    </tr>\n",
       "  </tbody>\n",
       "</table>\n",
       "</div>"
      ],
      "text/plain": [
       "       bedroom_cnt  bathroom_cnt  sqft  appraised_value  year_built  \\\n",
       "22113            3           2.0  1422         525223.0        1947   \n",
       "11771            4           3.0  1688         414349.0        1960   \n",
       "16027            4           2.5  2044         424126.0        1992   \n",
       "3443             3           2.0  1215         431814.0        1971   \n",
       "19279            3           3.0  2192         599606.0        1975   \n",
       "\n",
       "       fips_06037  fips_06059  fips_06111  \n",
       "22113           1           0           0  \n",
       "11771           1           0           0  \n",
       "16027           0           1           0  \n",
       "3443            0           0           1  \n",
       "19279           1           0           0  "
      ]
     },
     "execution_count": 26,
     "metadata": {},
     "output_type": "execute_result"
    }
   ],
   "source": [
    "# split encoded df for scaling and modeling\n",
    "train_encoded, validate_encoded, test_encoded = w.split_zillow(df_modeling)\n",
    "print(train_encoded.shape, validate_encoded.shape, test_encoded.shape)\n",
    "train_encoded.head()"
   ]
  },
  {
   "cell_type": "code",
   "execution_count": 27,
   "id": "6d98f17f-7854-44fd-b90f-896cbaed9451",
   "metadata": {},
   "outputs": [
    {
     "name": "stdout",
     "output_type": "stream",
     "text": [
      "(17309, 6) (2140, 6) (2162, 6)\n"
     ]
    },
    {
     "data": {
      "text/html": [
       "<div>\n",
       "<style scoped>\n",
       "    .dataframe tbody tr th:only-of-type {\n",
       "        vertical-align: middle;\n",
       "    }\n",
       "\n",
       "    .dataframe tbody tr th {\n",
       "        vertical-align: top;\n",
       "    }\n",
       "\n",
       "    .dataframe thead th {\n",
       "        text-align: right;\n",
       "    }\n",
       "</style>\n",
       "<table border=\"1\" class=\"dataframe\">\n",
       "  <thead>\n",
       "    <tr style=\"text-align: right;\">\n",
       "      <th></th>\n",
       "      <th>bedroom_cnt</th>\n",
       "      <th>bathroom_cnt</th>\n",
       "      <th>sqft</th>\n",
       "      <th>appraised_value</th>\n",
       "      <th>year_built</th>\n",
       "      <th>fips</th>\n",
       "    </tr>\n",
       "  </thead>\n",
       "  <tbody>\n",
       "    <tr>\n",
       "      <th>22113</th>\n",
       "      <td>3</td>\n",
       "      <td>2.0</td>\n",
       "      <td>1422</td>\n",
       "      <td>525223.0</td>\n",
       "      <td>1947</td>\n",
       "      <td>06037</td>\n",
       "    </tr>\n",
       "    <tr>\n",
       "      <th>11771</th>\n",
       "      <td>4</td>\n",
       "      <td>3.0</td>\n",
       "      <td>1688</td>\n",
       "      <td>414349.0</td>\n",
       "      <td>1960</td>\n",
       "      <td>06037</td>\n",
       "    </tr>\n",
       "    <tr>\n",
       "      <th>16027</th>\n",
       "      <td>4</td>\n",
       "      <td>2.5</td>\n",
       "      <td>2044</td>\n",
       "      <td>424126.0</td>\n",
       "      <td>1992</td>\n",
       "      <td>06059</td>\n",
       "    </tr>\n",
       "    <tr>\n",
       "      <th>3443</th>\n",
       "      <td>3</td>\n",
       "      <td>2.0</td>\n",
       "      <td>1215</td>\n",
       "      <td>431814.0</td>\n",
       "      <td>1971</td>\n",
       "      <td>06111</td>\n",
       "    </tr>\n",
       "    <tr>\n",
       "      <th>19279</th>\n",
       "      <td>3</td>\n",
       "      <td>3.0</td>\n",
       "      <td>2192</td>\n",
       "      <td>599606.0</td>\n",
       "      <td>1975</td>\n",
       "      <td>06037</td>\n",
       "    </tr>\n",
       "  </tbody>\n",
       "</table>\n",
       "</div>"
      ],
      "text/plain": [
       "       bedroom_cnt  bathroom_cnt  sqft  appraised_value  year_built   fips\n",
       "22113            3           2.0  1422         525223.0        1947  06037\n",
       "11771            4           3.0  1688         414349.0        1960  06037\n",
       "16027            4           2.5  2044         424126.0        1992  06059\n",
       "3443             3           2.0  1215         431814.0        1971  06111\n",
       "19279            3           3.0  2192         599606.0        1975  06037"
      ]
     },
     "execution_count": 27,
     "metadata": {},
     "output_type": "execute_result"
    }
   ],
   "source": [
    "# split df for exploration\n",
    "df_exploration = df.drop(columns=['prop_tax', 'tax_rate', 'transaction_date'])\n",
    "train_explore, validate_explore, test_explore = w.split_zillow(df_exploration)\n",
    "print(train_explore.shape, validate_explore.shape, test_explore.shape)\n",
    "train_explore.head()"
   ]
  },
  {
   "cell_type": "markdown",
   "id": "80fee272-bf73-4bc2-b041-e222c1ee97d5",
   "metadata": {},
   "source": [
    "---\n",
    "### Scale"
   ]
  },
  {
   "cell_type": "code",
   "execution_count": 28,
   "id": "9ab42abe-4714-4a05-aca9-6b7bac634bc1",
   "metadata": {},
   "outputs": [
    {
     "data": {
      "text/html": [
       "<div>\n",
       "<style scoped>\n",
       "    .dataframe tbody tr th:only-of-type {\n",
       "        vertical-align: middle;\n",
       "    }\n",
       "\n",
       "    .dataframe tbody tr th {\n",
       "        vertical-align: top;\n",
       "    }\n",
       "\n",
       "    .dataframe thead th {\n",
       "        text-align: right;\n",
       "    }\n",
       "</style>\n",
       "<table border=\"1\" class=\"dataframe\">\n",
       "  <thead>\n",
       "    <tr style=\"text-align: right;\">\n",
       "      <th></th>\n",
       "      <th>appraised_value</th>\n",
       "      <th>fips_06037</th>\n",
       "      <th>fips_06059</th>\n",
       "      <th>fips_06111</th>\n",
       "      <th>bedroom_cnt_scaled</th>\n",
       "      <th>bathroom_cnt_scaled</th>\n",
       "      <th>sqft_scaled</th>\n",
       "      <th>year_built_scaled</th>\n",
       "    </tr>\n",
       "  </thead>\n",
       "  <tbody>\n",
       "    <tr>\n",
       "      <th>22113</th>\n",
       "      <td>525223.0</td>\n",
       "      <td>1</td>\n",
       "      <td>0</td>\n",
       "      <td>0</td>\n",
       "      <td>0.333333</td>\n",
       "      <td>0.333333</td>\n",
       "      <td>0.297665</td>\n",
       "      <td>0.352381</td>\n",
       "    </tr>\n",
       "    <tr>\n",
       "      <th>11771</th>\n",
       "      <td>414349.0</td>\n",
       "      <td>1</td>\n",
       "      <td>0</td>\n",
       "      <td>0</td>\n",
       "      <td>0.666667</td>\n",
       "      <td>0.666667</td>\n",
       "      <td>0.383917</td>\n",
       "      <td>0.476190</td>\n",
       "    </tr>\n",
       "    <tr>\n",
       "      <th>16027</th>\n",
       "      <td>424126.0</td>\n",
       "      <td>0</td>\n",
       "      <td>1</td>\n",
       "      <td>0</td>\n",
       "      <td>0.666667</td>\n",
       "      <td>0.500000</td>\n",
       "      <td>0.499351</td>\n",
       "      <td>0.780952</td>\n",
       "    </tr>\n",
       "    <tr>\n",
       "      <th>3443</th>\n",
       "      <td>431814.0</td>\n",
       "      <td>0</td>\n",
       "      <td>0</td>\n",
       "      <td>1</td>\n",
       "      <td>0.333333</td>\n",
       "      <td>0.333333</td>\n",
       "      <td>0.230545</td>\n",
       "      <td>0.580952</td>\n",
       "    </tr>\n",
       "    <tr>\n",
       "      <th>19279</th>\n",
       "      <td>599606.0</td>\n",
       "      <td>1</td>\n",
       "      <td>0</td>\n",
       "      <td>0</td>\n",
       "      <td>0.333333</td>\n",
       "      <td>0.666667</td>\n",
       "      <td>0.547341</td>\n",
       "      <td>0.619048</td>\n",
       "    </tr>\n",
       "  </tbody>\n",
       "</table>\n",
       "</div>"
      ],
      "text/plain": [
       "       appraised_value  fips_06037  fips_06059  fips_06111  \\\n",
       "22113         525223.0           1           0           0   \n",
       "11771         414349.0           1           0           0   \n",
       "16027         424126.0           0           1           0   \n",
       "3443          431814.0           0           0           1   \n",
       "19279         599606.0           1           0           0   \n",
       "\n",
       "       bedroom_cnt_scaled  bathroom_cnt_scaled  sqft_scaled  year_built_scaled  \n",
       "22113            0.333333             0.333333     0.297665           0.352381  \n",
       "11771            0.666667             0.666667     0.383917           0.476190  \n",
       "16027            0.666667             0.500000     0.499351           0.780952  \n",
       "3443             0.333333             0.333333     0.230545           0.580952  \n",
       "19279            0.333333             0.666667     0.547341           0.619048  "
      ]
     },
     "execution_count": 28,
     "metadata": {},
     "output_type": "execute_result"
    }
   ],
   "source": [
    "# scale dfs that will be used in modeling\n",
    "cols = ['bedroom_cnt', 'bathroom_cnt', 'sqft', 'year_built']\n",
    "train_scaled, validate_scaled, test_scaled = w.add_scaled_columns(train_encoded, validate_encoded, test_encoded, MinMaxScaler(), cols)\n",
    "train_scaled.head()"
   ]
  },
  {
   "cell_type": "markdown",
   "id": "8062411e-55cc-4347-86db-f9d2cd58b067",
   "metadata": {},
   "source": [
    "---\n",
    "## Explore\n",
    "---"
   ]
  },
  {
   "cell_type": "code",
   "execution_count": null,
   "id": "75b0564a-b456-4717-9b27-7a0890a0b3f8",
   "metadata": {},
   "outputs": [],
   "source": []
  },
  {
   "cell_type": "markdown",
   "id": "69f43a8b-ca8d-4483-be4c-246357a18a63",
   "metadata": {},
   "source": [
    "---\n",
    "## Model/Evaluate\n",
    "---"
   ]
  },
  {
   "cell_type": "code",
   "execution_count": null,
   "id": "ed65b24f-4e90-4f61-9a2c-cbf55a9a8f98",
   "metadata": {},
   "outputs": [],
   "source": []
  }
 ],
 "metadata": {
  "kernelspec": {
   "display_name": "Python 3",
   "language": "python",
   "name": "python3"
  },
  "language_info": {
   "codemirror_mode": {
    "name": "ipython",
    "version": 3
   },
   "file_extension": ".py",
   "mimetype": "text/x-python",
   "name": "python",
   "nbconvert_exporter": "python",
   "pygments_lexer": "ipython3",
   "version": "3.8.8"
  }
 },
 "nbformat": 4,
 "nbformat_minor": 5
}
