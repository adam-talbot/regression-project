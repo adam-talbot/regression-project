{
 "cells": [
  {
   "cell_type": "markdown",
   "id": "51f7b427-283a-4bdd-80e1-72d38461465b",
   "metadata": {},
   "source": [
    "---\n",
    "# Zillow Regression Project \n",
    "---"
   ]
  },
  {
   "cell_type": "markdown",
   "id": "e791fb4f-85c2-4a2c-b5d7-e182648205b7",
   "metadata": {},
   "source": [
    "---\n",
    "## Executive Summary\n",
    "---"
   ]
  },
  {
   "cell_type": "code",
   "execution_count": null,
   "id": "375d7ecf-b3a0-4337-bd59-1d24540053b5",
   "metadata": {},
   "outputs": [],
   "source": []
  },
  {
   "cell_type": "markdown",
   "id": "4f8d6398-1b82-432b-83c3-eafcab07ff72",
   "metadata": {},
   "source": [
    "---\n",
    "## Plan\n",
    "---"
   ]
  },
  {
   "cell_type": "code",
   "execution_count": null,
   "id": "b3f9eb69-97cd-4dc3-889a-054833e7fb36",
   "metadata": {},
   "outputs": [],
   "source": []
  },
  {
   "cell_type": "markdown",
   "id": "385d5334-96db-45db-987b-ab4e02966a52",
   "metadata": {},
   "source": [
    "---\n",
    "## Acquire\n",
    "---"
   ]
  },
  {
   "cell_type": "code",
   "execution_count": 1,
   "id": "11acf997-540b-48df-b42e-1a588b8d4fbc",
   "metadata": {},
   "outputs": [],
   "source": [
    "# standard imports\n",
    "import pandas as pd\n",
    "import numpy as np\n",
    "import seaborn as sns\n",
    "import matplotlib.pyplot as plt\n",
    "\n",
    "# sklearn imports\n",
    "from sklearn.metrics import mean_squared_error, explained_variance_score\n",
    "from sklearn.linear_model import LinearRegression, LassoLars, TweedieRegressor\n",
    "from sklearn.preprocessing import PolynomialFeatures, MinMaxScaler\n",
    "\n",
    "\n",
    "# ignore warnings\n",
    "import warnings\n",
    "warnings.filterwarnings(\"ignore\")\n",
    "\n",
    "# Custom module imports\n",
    "import wrangle as w"
   ]
  },
  {
   "cell_type": "code",
   "execution_count": 2,
   "id": "ce5d846a-28c7-4298-b36e-9190fe448f35",
   "metadata": {},
   "outputs": [],
   "source": [
    "# use function from wrangle module to acquire needed data\n",
    "# 261, 279\n",
    "df = w.get_zillow_sfr_data()"
   ]
  },
  {
   "cell_type": "code",
   "execution_count": 3,
   "id": "89a48b54-efa1-45e0-8d74-e42644a1edd7",
   "metadata": {},
   "outputs": [
    {
     "data": {
      "text/plain": [
       "(28124, 8)"
      ]
     },
     "execution_count": 3,
     "metadata": {},
     "output_type": "execute_result"
    }
   ],
   "source": [
    "df.shape"
   ]
  },
  {
   "cell_type": "code",
   "execution_count": 4,
   "id": "124bf7c9-a5b8-4b4d-a47f-a96a8c3b2c66",
   "metadata": {},
   "outputs": [
    {
     "name": "stdout",
     "output_type": "stream",
     "text": [
      "<class 'pandas.core.frame.DataFrame'>\n",
      "Int64Index: 28124 entries, 0 to 28123\n",
      "Data columns (total 8 columns):\n",
      " #   Column                        Non-Null Count  Dtype  \n",
      "---  ------                        --------------  -----  \n",
      " 0   bedroomcnt                    28124 non-null  float64\n",
      " 1   bathroomcnt                   28124 non-null  float64\n",
      " 2   calculatedfinishedsquarefeet  28077 non-null  float64\n",
      " 3   taxamount                     28123 non-null  float64\n",
      " 4   taxvaluedollarcnt             28123 non-null  float64\n",
      " 5   yearbuilt                     28053 non-null  float64\n",
      " 6   fips                          28124 non-null  float64\n",
      " 7   transactiondate               28124 non-null  object \n",
      "dtypes: float64(7), object(1)\n",
      "memory usage: 1.9+ MB\n"
     ]
    }
   ],
   "source": [
    "df.info()"
   ]
  },
  {
   "cell_type": "code",
   "execution_count": 5,
   "id": "71f6ad8a-5ef9-41fd-bc34-dc00a7d8e3aa",
   "metadata": {},
   "outputs": [
    {
     "data": {
      "text/html": [
       "<div>\n",
       "<style scoped>\n",
       "    .dataframe tbody tr th:only-of-type {\n",
       "        vertical-align: middle;\n",
       "    }\n",
       "\n",
       "    .dataframe tbody tr th {\n",
       "        vertical-align: top;\n",
       "    }\n",
       "\n",
       "    .dataframe thead th {\n",
       "        text-align: right;\n",
       "    }\n",
       "</style>\n",
       "<table border=\"1\" class=\"dataframe\">\n",
       "  <thead>\n",
       "    <tr style=\"text-align: right;\">\n",
       "      <th></th>\n",
       "      <th>bedroomcnt</th>\n",
       "      <th>bathroomcnt</th>\n",
       "      <th>calculatedfinishedsquarefeet</th>\n",
       "      <th>taxamount</th>\n",
       "      <th>taxvaluedollarcnt</th>\n",
       "      <th>yearbuilt</th>\n",
       "      <th>fips</th>\n",
       "      <th>transactiondate</th>\n",
       "    </tr>\n",
       "  </thead>\n",
       "  <tbody>\n",
       "    <tr>\n",
       "      <th>0</th>\n",
       "      <td>3.0</td>\n",
       "      <td>2.0</td>\n",
       "      <td>1316.0</td>\n",
       "      <td>2627.48</td>\n",
       "      <td>205123.0</td>\n",
       "      <td>1923.0</td>\n",
       "      <td>6037.0</td>\n",
       "      <td>2017-07-21</td>\n",
       "    </tr>\n",
       "    <tr>\n",
       "      <th>1</th>\n",
       "      <td>3.0</td>\n",
       "      <td>2.0</td>\n",
       "      <td>1458.0</td>\n",
       "      <td>2319.90</td>\n",
       "      <td>136104.0</td>\n",
       "      <td>1970.0</td>\n",
       "      <td>6037.0</td>\n",
       "      <td>2017-06-23</td>\n",
       "    </tr>\n",
       "    <tr>\n",
       "      <th>2</th>\n",
       "      <td>2.0</td>\n",
       "      <td>1.0</td>\n",
       "      <td>1421.0</td>\n",
       "      <td>543.69</td>\n",
       "      <td>35606.0</td>\n",
       "      <td>1911.0</td>\n",
       "      <td>6037.0</td>\n",
       "      <td>2017-06-30</td>\n",
       "    </tr>\n",
       "    <tr>\n",
       "      <th>3</th>\n",
       "      <td>4.0</td>\n",
       "      <td>3.0</td>\n",
       "      <td>2541.0</td>\n",
       "      <td>9819.72</td>\n",
       "      <td>880456.0</td>\n",
       "      <td>2003.0</td>\n",
       "      <td>6059.0</td>\n",
       "      <td>2017-06-01</td>\n",
       "    </tr>\n",
       "    <tr>\n",
       "      <th>4</th>\n",
       "      <td>3.0</td>\n",
       "      <td>2.0</td>\n",
       "      <td>1491.0</td>\n",
       "      <td>1399.27</td>\n",
       "      <td>107110.0</td>\n",
       "      <td>1955.0</td>\n",
       "      <td>6037.0</td>\n",
       "      <td>2017-08-23</td>\n",
       "    </tr>\n",
       "  </tbody>\n",
       "</table>\n",
       "</div>"
      ],
      "text/plain": [
       "   bedroomcnt  bathroomcnt  calculatedfinishedsquarefeet  taxamount  \\\n",
       "0         3.0          2.0                        1316.0    2627.48   \n",
       "1         3.0          2.0                        1458.0    2319.90   \n",
       "2         2.0          1.0                        1421.0     543.69   \n",
       "3         4.0          3.0                        2541.0    9819.72   \n",
       "4         3.0          2.0                        1491.0    1399.27   \n",
       "\n",
       "   taxvaluedollarcnt  yearbuilt    fips transactiondate  \n",
       "0           205123.0     1923.0  6037.0      2017-07-21  \n",
       "1           136104.0     1970.0  6037.0      2017-06-23  \n",
       "2            35606.0     1911.0  6037.0      2017-06-30  \n",
       "3           880456.0     2003.0  6059.0      2017-06-01  \n",
       "4           107110.0     1955.0  6037.0      2017-08-23  "
      ]
     },
     "execution_count": 5,
     "metadata": {},
     "output_type": "execute_result"
    }
   ],
   "source": [
    "df.head()"
   ]
  },
  {
   "cell_type": "markdown",
   "id": "29a68a2e-c44e-4307-8eb8-ae69b9d3393a",
   "metadata": {},
   "source": [
    "---\n",
    "## Prepare\n",
    "---"
   ]
  },
  {
   "cell_type": "code",
   "execution_count": 6,
   "id": "4fe0b82b-c628-49c6-9db0-13352d759f10",
   "metadata": {},
   "outputs": [
    {
     "data": {
      "text/plain": [
       "bedroomcnt                       0\n",
       "bathroomcnt                      0\n",
       "calculatedfinishedsquarefeet    47\n",
       "taxamount                        1\n",
       "taxvaluedollarcnt                1\n",
       "yearbuilt                       71\n",
       "fips                             0\n",
       "transactiondate                  0\n",
       "dtype: int64"
      ]
     },
     "execution_count": 6,
     "metadata": {},
     "output_type": "execute_result"
    }
   ],
   "source": [
    "df.isna().sum()"
   ]
  },
  {
   "cell_type": "code",
   "execution_count": 7,
   "id": "ad19c0f3-9da8-4d85-ad75-2d37d85eb394",
   "metadata": {},
   "outputs": [],
   "source": [
    "df = df.dropna()"
   ]
  },
  {
   "cell_type": "code",
   "execution_count": 8,
   "id": "21ab6082-6b54-4359-a634-b93b117576d5",
   "metadata": {},
   "outputs": [
    {
     "data": {
      "text/plain": [
       "bedroomcnt                      0\n",
       "bathroomcnt                     0\n",
       "calculatedfinishedsquarefeet    0\n",
       "taxamount                       0\n",
       "taxvaluedollarcnt               0\n",
       "yearbuilt                       0\n",
       "fips                            0\n",
       "transactiondate                 0\n",
       "dtype: int64"
      ]
     },
     "execution_count": 8,
     "metadata": {},
     "output_type": "execute_result"
    }
   ],
   "source": [
    "df.isna().sum()"
   ]
  },
  {
   "cell_type": "code",
   "execution_count": 9,
   "id": "58ada004-c59d-4a44-9682-29322ca96228",
   "metadata": {},
   "outputs": [
    {
     "data": {
      "text/plain": [
       "(28048, 8)"
      ]
     },
     "execution_count": 9,
     "metadata": {},
     "output_type": "execute_result"
    }
   ],
   "source": [
    "df.shape"
   ]
  },
  {
   "cell_type": "code",
   "execution_count": 10,
   "id": "c8c2c21b-a7c0-4917-87e7-529a64aaa5f8",
   "metadata": {},
   "outputs": [
    {
     "data": {
      "text/plain": [
       "0"
      ]
     },
     "execution_count": 10,
     "metadata": {},
     "output_type": "execute_result"
    }
   ],
   "source": [
    "df.duplicated().sum()"
   ]
  },
  {
   "cell_type": "code",
   "execution_count": 11,
   "id": "ea8e18d6-746d-46c5-80bf-3ca0f937eff7",
   "metadata": {},
   "outputs": [],
   "source": [
    "df = df.drop_duplicates()"
   ]
  },
  {
   "cell_type": "code",
   "execution_count": 12,
   "id": "71022811-b541-4e26-884a-7ca8891c8f74",
   "metadata": {},
   "outputs": [
    {
     "data": {
      "text/plain": [
       "0"
      ]
     },
     "execution_count": 12,
     "metadata": {},
     "output_type": "execute_result"
    }
   ],
   "source": [
    "df.duplicated().sum()"
   ]
  },
  {
   "cell_type": "code",
   "execution_count": 13,
   "id": "84576897-0c9e-4fc4-9293-b75a888ade93",
   "metadata": {},
   "outputs": [
    {
     "name": "stdout",
     "output_type": "stream",
     "text": [
      "<class 'pandas.core.frame.DataFrame'>\n",
      "Int64Index: 28048 entries, 0 to 28123\n",
      "Data columns (total 8 columns):\n",
      " #   Column                        Non-Null Count  Dtype  \n",
      "---  ------                        --------------  -----  \n",
      " 0   bedroomcnt                    28048 non-null  float64\n",
      " 1   bathroomcnt                   28048 non-null  float64\n",
      " 2   calculatedfinishedsquarefeet  28048 non-null  float64\n",
      " 3   taxamount                     28048 non-null  float64\n",
      " 4   taxvaluedollarcnt             28048 non-null  float64\n",
      " 5   yearbuilt                     28048 non-null  float64\n",
      " 6   fips                          28048 non-null  float64\n",
      " 7   transactiondate               28048 non-null  object \n",
      "dtypes: float64(7), object(1)\n",
      "memory usage: 1.9+ MB\n"
     ]
    }
   ],
   "source": [
    "df.info()"
   ]
  },
  {
   "cell_type": "code",
   "execution_count": 14,
   "id": "ff1a7a17-13dc-47f3-9b13-3065e992ad39",
   "metadata": {},
   "outputs": [],
   "source": [
    "df.fips = '0' + df.fips.astype('int').astype('string')"
   ]
  },
  {
   "cell_type": "code",
   "execution_count": 15,
   "id": "0ace6242-7d62-4096-be9c-7cbbd6cdd232",
   "metadata": {},
   "outputs": [],
   "source": [
    "df.bedroomcnt = df.bedroomcnt.astype('int')"
   ]
  },
  {
   "cell_type": "code",
   "execution_count": 16,
   "id": "db7a8709-fabd-416b-b62c-b3709ed375e0",
   "metadata": {},
   "outputs": [],
   "source": [
    "df.calculatedfinishedsquarefeet = df.calculatedfinishedsquarefeet.astype('int')"
   ]
  },
  {
   "cell_type": "code",
   "execution_count": 17,
   "id": "2425ca99-d844-43ca-b6b1-6a09d93ab1e0",
   "metadata": {},
   "outputs": [],
   "source": [
    "df.yearbuilt = df.yearbuilt.astype('int')"
   ]
  },
  {
   "cell_type": "code",
   "execution_count": 18,
   "id": "20457370-b0f5-4f70-a40b-31a2fa6d158c",
   "metadata": {},
   "outputs": [
    {
     "name": "stdout",
     "output_type": "stream",
     "text": [
      "<class 'pandas.core.frame.DataFrame'>\n",
      "Int64Index: 28048 entries, 0 to 28123\n",
      "Data columns (total 8 columns):\n",
      " #   Column                        Non-Null Count  Dtype  \n",
      "---  ------                        --------------  -----  \n",
      " 0   bedroomcnt                    28048 non-null  int64  \n",
      " 1   bathroomcnt                   28048 non-null  float64\n",
      " 2   calculatedfinishedsquarefeet  28048 non-null  int64  \n",
      " 3   taxamount                     28048 non-null  float64\n",
      " 4   taxvaluedollarcnt             28048 non-null  float64\n",
      " 5   yearbuilt                     28048 non-null  int64  \n",
      " 6   fips                          28048 non-null  string \n",
      " 7   transactiondate               28048 non-null  object \n",
      "dtypes: float64(3), int64(3), object(1), string(1)\n",
      "memory usage: 1.9+ MB\n"
     ]
    }
   ],
   "source": [
    "df.info()"
   ]
  },
  {
   "cell_type": "code",
   "execution_count": 19,
   "id": "a1a2cb1a-fa13-4f4c-a5b4-77263375df6e",
   "metadata": {},
   "outputs": [
    {
     "data": {
      "text/plain": [
       "06037    17886\n",
       "06059     7742\n",
       "06111     2420\n",
       "Name: fips, dtype: Int64"
      ]
     },
     "execution_count": 19,
     "metadata": {},
     "output_type": "execute_result"
    }
   ],
   "source": [
    "df.fips.value_counts()"
   ]
  },
  {
   "cell_type": "code",
   "execution_count": 20,
   "id": "71c19fb7-d2b1-4183-8970-dd7782fd290a",
   "metadata": {},
   "outputs": [
    {
     "data": {
      "text/plain": [
       "2017-06-30    807\n",
       "2017-05-31    563\n",
       "2017-07-28    545\n",
       "2017-08-31    528\n",
       "2017-05-26    509\n",
       "             ... \n",
       "2017-06-11      1\n",
       "2017-08-12      1\n",
       "2017-08-13      1\n",
       "2017-05-07      1\n",
       "2017-05-20      1\n",
       "Name: transactiondate, Length: 119, dtype: int64"
      ]
     },
     "execution_count": 20,
     "metadata": {},
     "output_type": "execute_result"
    }
   ],
   "source": [
    "df.transactiondate.value_counts()"
   ]
  },
  {
   "cell_type": "code",
   "execution_count": 21,
   "id": "6deac0b3-1337-49c5-aad5-b5579c550af2",
   "metadata": {},
   "outputs": [],
   "source": [
    "df.transactiondate = df.transactiondate.astype('datetime64')"
   ]
  },
  {
   "cell_type": "code",
   "execution_count": 22,
   "id": "179d59cd-8e1c-4e91-add0-a5a10995066f",
   "metadata": {},
   "outputs": [
    {
     "name": "stdout",
     "output_type": "stream",
     "text": [
      "<class 'pandas.core.frame.DataFrame'>\n",
      "Int64Index: 28048 entries, 0 to 28123\n",
      "Data columns (total 8 columns):\n",
      " #   Column                        Non-Null Count  Dtype         \n",
      "---  ------                        --------------  -----         \n",
      " 0   bedroomcnt                    28048 non-null  int64         \n",
      " 1   bathroomcnt                   28048 non-null  float64       \n",
      " 2   calculatedfinishedsquarefeet  28048 non-null  int64         \n",
      " 3   taxamount                     28048 non-null  float64       \n",
      " 4   taxvaluedollarcnt             28048 non-null  float64       \n",
      " 5   yearbuilt                     28048 non-null  int64         \n",
      " 6   fips                          28048 non-null  string        \n",
      " 7   transactiondate               28048 non-null  datetime64[ns]\n",
      "dtypes: datetime64[ns](1), float64(3), int64(3), string(1)\n",
      "memory usage: 1.9 MB\n"
     ]
    }
   ],
   "source": [
    "df.info()"
   ]
  },
  {
   "cell_type": "code",
   "execution_count": 23,
   "id": "80f69b63-1bf7-4d6a-a238-b316cf195eb8",
   "metadata": {},
   "outputs": [
    {
     "data": {
      "text/plain": [
       "0       2017-07-21\n",
       "1       2017-06-23\n",
       "2       2017-06-30\n",
       "3       2017-06-01\n",
       "4       2017-08-23\n",
       "           ...    \n",
       "28119   2017-08-31\n",
       "28120   2017-08-31\n",
       "28121   2017-08-31\n",
       "28122   2017-08-31\n",
       "28123   2017-08-31\n",
       "Name: transactiondate, Length: 28048, dtype: datetime64[ns]"
      ]
     },
     "execution_count": 23,
     "metadata": {},
     "output_type": "execute_result"
    }
   ],
   "source": [
    "df.transactiondate"
   ]
  },
  {
   "cell_type": "code",
   "execution_count": 24,
   "id": "1e9bfe07-88e2-4775-ac98-ff3e78003d84",
   "metadata": {},
   "outputs": [
    {
     "data": {
      "image/png": "[encoded data removed]",
      "text/plain": [
       "<Figure size 432x288 with 1 Axes>"
      ]
     },
     "metadata": {
      "needs_background": "light"
     },
     "output_type": "display_data"
    }
   ],
   "source": [
    "df.transactiondate.hist(bins=16, xrot=90);"
   ]
  },
  {
   "cell_type": "code",
   "execution_count": 25,
   "id": "691337ed-d29c-42ea-8051-d5e3d9ee6a13",
   "metadata": {},
   "outputs": [],
   "source": [
    "# rename columns\n",
    "df = df.rename(columns={\n",
    "    'bedroomcnt' : 'bedroom_cnt',\n",
    "    'bathroomcnt' : \"bathroom_cnt\",\n",
    "    'calculatedfinishedsquarefeet' : 'sqft',\n",
    "    'taxamount' : 'prop_tax',\n",
    "    'taxvaluedollarcnt' : 'appraised_value',\n",
    "    'yearbuilt' : 'year_built',\n",
    "    'transactiondate' : 'transaction_date'\n",
    "})"
   ]
  },
  {
   "cell_type": "code",
   "execution_count": 26,
   "id": "3509f1b1-ccd0-43b7-a6d6-4e134fe0f4a2",
   "metadata": {},
   "outputs": [
    {
     "data": {
      "text/plain": [
       "['bedroom_cnt',\n",
       " 'bathroom_cnt',\n",
       " 'sqft',\n",
       " 'prop_tax',\n",
       " 'appraised_value',\n",
       " 'year_built']"
      ]
     },
     "execution_count": 26,
     "metadata": {},
     "output_type": "execute_result"
    }
   ],
   "source": [
    "num_cols = df.select_dtypes('number').columns.tolist()\n",
    "num_cols"
   ]
  },
  {
   "cell_type": "code",
   "execution_count": 27,
   "id": "87d042b1-d222-4115-9be1-acfbc777f718",
   "metadata": {},
   "outputs": [],
   "source": [
    "for col in num_cols:\n",
    "    Q1 = np.percentile(df[col], 25, interpolation='midpoint')\n",
    "    Q3 = np.percentile(df[col], 75, interpolation='midpoint')\n",
    "    IQR = Q3 - Q1\n",
    "    UB = Q3 + (1.5 * IQR)\n",
    "    LB = Q1 - (1.5 * IQR)\n",
    "    df = df[(df[col] < UB) & (df[col] > LB)]"
   ]
  },
  {
   "cell_type": "code",
   "execution_count": 28,
   "id": "8f2ba9a9-20c2-4c07-a2e4-6f1a96293485",
   "metadata": {},
   "outputs": [
    {
     "data": {
      "image/png": "[encoded data removed]",
      "text/plain": [
       "<Figure size 2160x216 with 6 Axes>"
      ]
     },
     "metadata": {
      "needs_background": "light"
     },
     "output_type": "display_data"
    }
   ],
   "source": [
    "# distributions\n",
    "plt.figure(figsize=(30, 3))\n",
    "\n",
    "# List of columns\n",
    "cols = df.select_dtypes('number').columns.tolist()\n",
    "\n",
    "for i, col in enumerate(cols):\n",
    "    \n",
    "    # i starts at 0, but plot nos should start at 1\n",
    "    plot_number = i + 1 \n",
    "    \n",
    "    # Create subplot.\n",
    "    plt.subplot(1,len(cols), plot_number)\n",
    "    \n",
    "    # Title with column name.\n",
    "    plt.title(col)\n",
    "    \n",
    "    # Display histogram for column.\n",
    "    df[col].hist(edgecolor='black')\n",
    "    \n",
    "    # Hide gridlines.\n",
    "    plt.grid(False)"
   ]
  },
  {
   "cell_type": "code",
   "execution_count": 29,
   "id": "c8a0c646-5de7-4b7b-940c-cfd8834d0d38",
   "metadata": {},
   "outputs": [],
   "source": [
    "# make this into function\n",
    "def plot_distributions(df):\n",
    "    \n",
    "    # distributions\n",
    "    plt.figure(figsize=(30, 3))\n",
    "    \n",
    "    # List of columns\n",
    "    cols = df.select_dtypes('number').columns.tolist()\n",
    "    \n",
    "    for i, col in enumerate(cols):\n",
    "        \n",
    "        # i starts at 0, but plot nos should start at 1\n",
    "        plot_number = i + 1 \n",
    "        \n",
    "        # Create subplot.\n",
    "        plt.subplot(1,len(cols), plot_number)\n",
    "        \n",
    "        # Title with column name.\n",
    "        plt.title(col)\n",
    "        \n",
    "        # Display histogram for column.\n",
    "        df[col].hist(edgecolor='black')\n",
    "        \n",
    "        # Hide gridlines.\n",
    "        plt.grid(False)"
   ]
  },
  {
   "cell_type": "code",
   "execution_count": 30,
   "id": "e8250fe3-9929-4b5b-bbe9-03fcf08502e9",
   "metadata": {},
   "outputs": [
    {
     "data": {
      "image/png": "[encoded data removed]",
      "text/plain": [
       "<Figure size 2160x216 with 6 Axes>"
      ]
     },
     "metadata": {
      "needs_background": "light"
     },
     "output_type": "display_data"
    }
   ],
   "source": [
    "plot_distributions(df)"
   ]
  },
  {
   "cell_type": "code",
   "execution_count": 31,
   "id": "b6ee5545-a3c3-4686-a86b-55cd60e229b1",
   "metadata": {},
   "outputs": [
    {
     "data": {
      "image/png": "[encoded data removed]",
      "text/plain": [
       "<Figure size 2160x864 with 6 Axes>"
      ]
     },
     "metadata": {
      "needs_background": "light"
     },
     "output_type": "display_data"
    }
   ],
   "source": [
    "# boxplots\n",
    "plt.figure(figsize=(30, 12))\n",
    "\n",
    "# List of columns\n",
    "cols = df.select_dtypes('number').columns.tolist()\n",
    "\n",
    "for i, col in enumerate(cols):\n",
    "    \n",
    "    # i starts at 0, but plot nos should start at 1\n",
    "    plot_number = i + 1 \n",
    "    \n",
    "    # Create subplot.\n",
    "    plt.subplot(1,len(cols), plot_number)\n",
    "    \n",
    "    # Title with column name.\n",
    "    plt.title(col)\n",
    "    \n",
    "    # Display boxplot for column.\n",
    "    sns.boxplot(y=col, data=df)\n",
    "    plt.tight_layout()"
   ]
  },
  {
   "cell_type": "code",
   "execution_count": 32,
   "id": "b14e5724-83fc-4419-808b-34c520a948ba",
   "metadata": {},
   "outputs": [],
   "source": [
    "# make into function\n",
    "def plot_boxplots(df):\n",
    "\n",
    "    plt.figure(figsize=(30, 12))\n",
    "\n",
    "    # List of columns\n",
    "    cols = df.select_dtypes('number').columns.tolist()\n",
    "    \n",
    "    for i, col in enumerate(cols):\n",
    "        \n",
    "        # i starts at 0, but plot nos should start at 1\n",
    "        plot_number = i + 1 \n",
    "        \n",
    "        # Create subplot.\n",
    "        plt.subplot(1,len(cols), plot_number)\n",
    "        \n",
    "        # Title with column name.\n",
    "        plt.title(col)\n",
    "        \n",
    "        # Display boxplot for column.\n",
    "        sns.boxplot(y=col, data=df)\n",
    "        plt.tight_layout()"
   ]
  },
  {
   "cell_type": "code",
   "execution_count": 33,
   "id": "90e74bce-d5b9-4b27-b9dd-017be38a057b",
   "metadata": {},
   "outputs": [
    {
     "data": {
      "image/png": "[encoded data removed]",
      "text/plain": [
       "<Figure size 2160x864 with 6 Axes>"
      ]
     },
     "metadata": {
      "needs_background": "light"
     },
     "output_type": "display_data"
    }
   ],
   "source": [
    "plot_boxplots(df)"
   ]
  },
  {
   "cell_type": "code",
   "execution_count": 34,
   "id": "9b4bd057-d0e0-440e-85a7-099ef43ddb7d",
   "metadata": {},
   "outputs": [
    {
     "data": {
      "text/html": [
       "<div>\n",
       "<style scoped>\n",
       "    .dataframe tbody tr th:only-of-type {\n",
       "        vertical-align: middle;\n",
       "    }\n",
       "\n",
       "    .dataframe tbody tr th {\n",
       "        vertical-align: top;\n",
       "    }\n",
       "\n",
       "    .dataframe thead th {\n",
       "        text-align: right;\n",
       "    }\n",
       "</style>\n",
       "<table border=\"1\" class=\"dataframe\">\n",
       "  <thead>\n",
       "    <tr style=\"text-align: right;\">\n",
       "      <th></th>\n",
       "      <th>bedroom_cnt</th>\n",
       "      <th>bathroom_cnt</th>\n",
       "      <th>sqft</th>\n",
       "      <th>prop_tax</th>\n",
       "      <th>appraised_value</th>\n",
       "      <th>year_built</th>\n",
       "      <th>fips</th>\n",
       "      <th>transaction_date</th>\n",
       "    </tr>\n",
       "  </thead>\n",
       "  <tbody>\n",
       "    <tr>\n",
       "      <th>0</th>\n",
       "      <td>3</td>\n",
       "      <td>2.0</td>\n",
       "      <td>1316</td>\n",
       "      <td>2627.48</td>\n",
       "      <td>205123.0</td>\n",
       "      <td>1923</td>\n",
       "      <td>06037</td>\n",
       "      <td>2017-07-21</td>\n",
       "    </tr>\n",
       "    <tr>\n",
       "      <th>1</th>\n",
       "      <td>3</td>\n",
       "      <td>2.0</td>\n",
       "      <td>1458</td>\n",
       "      <td>2319.90</td>\n",
       "      <td>136104.0</td>\n",
       "      <td>1970</td>\n",
       "      <td>06037</td>\n",
       "      <td>2017-06-23</td>\n",
       "    </tr>\n",
       "    <tr>\n",
       "      <th>2</th>\n",
       "      <td>2</td>\n",
       "      <td>1.0</td>\n",
       "      <td>1421</td>\n",
       "      <td>543.69</td>\n",
       "      <td>35606.0</td>\n",
       "      <td>1911</td>\n",
       "      <td>06037</td>\n",
       "      <td>2017-06-30</td>\n",
       "    </tr>\n",
       "    <tr>\n",
       "      <th>3</th>\n",
       "      <td>4</td>\n",
       "      <td>3.0</td>\n",
       "      <td>2541</td>\n",
       "      <td>9819.72</td>\n",
       "      <td>880456.0</td>\n",
       "      <td>2003</td>\n",
       "      <td>06059</td>\n",
       "      <td>2017-06-01</td>\n",
       "    </tr>\n",
       "    <tr>\n",
       "      <th>4</th>\n",
       "      <td>3</td>\n",
       "      <td>2.0</td>\n",
       "      <td>1491</td>\n",
       "      <td>1399.27</td>\n",
       "      <td>107110.0</td>\n",
       "      <td>1955</td>\n",
       "      <td>06037</td>\n",
       "      <td>2017-08-23</td>\n",
       "    </tr>\n",
       "  </tbody>\n",
       "</table>\n",
       "</div>"
      ],
      "text/plain": [
       "   bedroom_cnt  bathroom_cnt  sqft  prop_tax  appraised_value  year_built  \\\n",
       "0            3           2.0  1316   2627.48         205123.0        1923   \n",
       "1            3           2.0  1458   2319.90         136104.0        1970   \n",
       "2            2           1.0  1421    543.69          35606.0        1911   \n",
       "3            4           3.0  2541   9819.72         880456.0        2003   \n",
       "4            3           2.0  1491   1399.27         107110.0        1955   \n",
       "\n",
       "    fips transaction_date  \n",
       "0  06037       2017-07-21  \n",
       "1  06037       2017-06-23  \n",
       "2  06037       2017-06-30  \n",
       "3  06059       2017-06-01  \n",
       "4  06037       2017-08-23  "
      ]
     },
     "execution_count": 34,
     "metadata": {},
     "output_type": "execute_result"
    }
   ],
   "source": [
    "df.head()"
   ]
  },
  {
   "cell_type": "code",
   "execution_count": 35,
   "id": "5a0a4c41-e315-4c65-a063-5c593c8a4682",
   "metadata": {},
   "outputs": [],
   "source": [
    "# add column for tax rate\n",
    "df['tax_rate'] = df.prop_tax / df.appraised_value"
   ]
  },
  {
   "cell_type": "code",
   "execution_count": 36,
   "id": "08d4a3bc-e7b0-414e-a356-896239958a8b",
   "metadata": {},
   "outputs": [
    {
     "data": {
      "text/html": [
       "<div>\n",
       "<style scoped>\n",
       "    .dataframe tbody tr th:only-of-type {\n",
       "        vertical-align: middle;\n",
       "    }\n",
       "\n",
       "    .dataframe tbody tr th {\n",
       "        vertical-align: top;\n",
       "    }\n",
       "\n",
       "    .dataframe thead th {\n",
       "        text-align: right;\n",
       "    }\n",
       "</style>\n",
       "<table border=\"1\" class=\"dataframe\">\n",
       "  <thead>\n",
       "    <tr style=\"text-align: right;\">\n",
       "      <th></th>\n",
       "      <th>bedroom_cnt</th>\n",
       "      <th>bathroom_cnt</th>\n",
       "      <th>sqft</th>\n",
       "      <th>prop_tax</th>\n",
       "      <th>appraised_value</th>\n",
       "      <th>year_built</th>\n",
       "      <th>fips</th>\n",
       "      <th>transaction_date</th>\n",
       "      <th>tax_rate</th>\n",
       "    </tr>\n",
       "  </thead>\n",
       "  <tbody>\n",
       "    <tr>\n",
       "      <th>0</th>\n",
       "      <td>3</td>\n",
       "      <td>2.0</td>\n",
       "      <td>1316</td>\n",
       "      <td>2627.48</td>\n",
       "      <td>205123.0</td>\n",
       "      <td>1923</td>\n",
       "      <td>06037</td>\n",
       "      <td>2017-07-21</td>\n",
       "      <td>0.012809</td>\n",
       "    </tr>\n",
       "    <tr>\n",
       "      <th>1</th>\n",
       "      <td>3</td>\n",
       "      <td>2.0</td>\n",
       "      <td>1458</td>\n",
       "      <td>2319.90</td>\n",
       "      <td>136104.0</td>\n",
       "      <td>1970</td>\n",
       "      <td>06037</td>\n",
       "      <td>2017-06-23</td>\n",
       "      <td>0.017045</td>\n",
       "    </tr>\n",
       "    <tr>\n",
       "      <th>2</th>\n",
       "      <td>2</td>\n",
       "      <td>1.0</td>\n",
       "      <td>1421</td>\n",
       "      <td>543.69</td>\n",
       "      <td>35606.0</td>\n",
       "      <td>1911</td>\n",
       "      <td>06037</td>\n",
       "      <td>2017-06-30</td>\n",
       "      <td>0.015270</td>\n",
       "    </tr>\n",
       "    <tr>\n",
       "      <th>3</th>\n",
       "      <td>4</td>\n",
       "      <td>3.0</td>\n",
       "      <td>2541</td>\n",
       "      <td>9819.72</td>\n",
       "      <td>880456.0</td>\n",
       "      <td>2003</td>\n",
       "      <td>06059</td>\n",
       "      <td>2017-06-01</td>\n",
       "      <td>0.011153</td>\n",
       "    </tr>\n",
       "    <tr>\n",
       "      <th>4</th>\n",
       "      <td>3</td>\n",
       "      <td>2.0</td>\n",
       "      <td>1491</td>\n",
       "      <td>1399.27</td>\n",
       "      <td>107110.0</td>\n",
       "      <td>1955</td>\n",
       "      <td>06037</td>\n",
       "      <td>2017-08-23</td>\n",
       "      <td>0.013064</td>\n",
       "    </tr>\n",
       "  </tbody>\n",
       "</table>\n",
       "</div>"
      ],
      "text/plain": [
       "   bedroom_cnt  bathroom_cnt  sqft  prop_tax  appraised_value  year_built  \\\n",
       "0            3           2.0  1316   2627.48         205123.0        1923   \n",
       "1            3           2.0  1458   2319.90         136104.0        1970   \n",
       "2            2           1.0  1421    543.69          35606.0        1911   \n",
       "3            4           3.0  2541   9819.72         880456.0        2003   \n",
       "4            3           2.0  1491   1399.27         107110.0        1955   \n",
       "\n",
       "    fips transaction_date  tax_rate  \n",
       "0  06037       2017-07-21  0.012809  \n",
       "1  06037       2017-06-23  0.017045  \n",
       "2  06037       2017-06-30  0.015270  \n",
       "3  06059       2017-06-01  0.011153  \n",
       "4  06037       2017-08-23  0.013064  "
      ]
     },
     "execution_count": 36,
     "metadata": {},
     "output_type": "execute_result"
    }
   ],
   "source": [
    "df.head()"
   ]
  },
  {
   "cell_type": "code",
   "execution_count": 37,
   "id": "3730f56d-f929-45a5-b252-c14660fb18a7",
   "metadata": {},
   "outputs": [
    {
     "data": {
      "text/html": [
       "<div>\n",
       "<style scoped>\n",
       "    .dataframe tbody tr th:only-of-type {\n",
       "        vertical-align: middle;\n",
       "    }\n",
       "\n",
       "    .dataframe tbody tr th {\n",
       "        vertical-align: top;\n",
       "    }\n",
       "\n",
       "    .dataframe thead th {\n",
       "        text-align: right;\n",
       "    }\n",
       "</style>\n",
       "<table border=\"1\" class=\"dataframe\">\n",
       "  <thead>\n",
       "    <tr style=\"text-align: right;\">\n",
       "      <th></th>\n",
       "      <th>bedroom_cnt</th>\n",
       "      <th>bathroom_cnt</th>\n",
       "      <th>sqft</th>\n",
       "      <th>prop_tax</th>\n",
       "      <th>appraised_value</th>\n",
       "      <th>year_built</th>\n",
       "      <th>transaction_date</th>\n",
       "      <th>tax_rate</th>\n",
       "      <th>fips_06037</th>\n",
       "      <th>fips_06059</th>\n",
       "      <th>fips_06111</th>\n",
       "    </tr>\n",
       "  </thead>\n",
       "  <tbody>\n",
       "    <tr>\n",
       "      <th>0</th>\n",
       "      <td>3</td>\n",
       "      <td>2.0</td>\n",
       "      <td>1316</td>\n",
       "      <td>2627.48</td>\n",
       "      <td>205123.0</td>\n",
       "      <td>1923</td>\n",
       "      <td>2017-07-21</td>\n",
       "      <td>0.012809</td>\n",
       "      <td>1</td>\n",
       "      <td>0</td>\n",
       "      <td>0</td>\n",
       "    </tr>\n",
       "    <tr>\n",
       "      <th>1</th>\n",
       "      <td>3</td>\n",
       "      <td>2.0</td>\n",
       "      <td>1458</td>\n",
       "      <td>2319.90</td>\n",
       "      <td>136104.0</td>\n",
       "      <td>1970</td>\n",
       "      <td>2017-06-23</td>\n",
       "      <td>0.017045</td>\n",
       "      <td>1</td>\n",
       "      <td>0</td>\n",
       "      <td>0</td>\n",
       "    </tr>\n",
       "    <tr>\n",
       "      <th>2</th>\n",
       "      <td>2</td>\n",
       "      <td>1.0</td>\n",
       "      <td>1421</td>\n",
       "      <td>543.69</td>\n",
       "      <td>35606.0</td>\n",
       "      <td>1911</td>\n",
       "      <td>2017-06-30</td>\n",
       "      <td>0.015270</td>\n",
       "      <td>1</td>\n",
       "      <td>0</td>\n",
       "      <td>0</td>\n",
       "    </tr>\n",
       "    <tr>\n",
       "      <th>3</th>\n",
       "      <td>4</td>\n",
       "      <td>3.0</td>\n",
       "      <td>2541</td>\n",
       "      <td>9819.72</td>\n",
       "      <td>880456.0</td>\n",
       "      <td>2003</td>\n",
       "      <td>2017-06-01</td>\n",
       "      <td>0.011153</td>\n",
       "      <td>0</td>\n",
       "      <td>1</td>\n",
       "      <td>0</td>\n",
       "    </tr>\n",
       "    <tr>\n",
       "      <th>4</th>\n",
       "      <td>3</td>\n",
       "      <td>2.0</td>\n",
       "      <td>1491</td>\n",
       "      <td>1399.27</td>\n",
       "      <td>107110.0</td>\n",
       "      <td>1955</td>\n",
       "      <td>2017-08-23</td>\n",
       "      <td>0.013064</td>\n",
       "      <td>1</td>\n",
       "      <td>0</td>\n",
       "      <td>0</td>\n",
       "    </tr>\n",
       "  </tbody>\n",
       "</table>\n",
       "</div>"
      ],
      "text/plain": [
       "   bedroom_cnt  bathroom_cnt  sqft  prop_tax  appraised_value  year_built  \\\n",
       "0            3           2.0  1316   2627.48         205123.0        1923   \n",
       "1            3           2.0  1458   2319.90         136104.0        1970   \n",
       "2            2           1.0  1421    543.69          35606.0        1911   \n",
       "3            4           3.0  2541   9819.72         880456.0        2003   \n",
       "4            3           2.0  1491   1399.27         107110.0        1955   \n",
       "\n",
       "  transaction_date  tax_rate  fips_06037  fips_06059  fips_06111  \n",
       "0       2017-07-21  0.012809           1           0           0  \n",
       "1       2017-06-23  0.017045           1           0           0  \n",
       "2       2017-06-30  0.015270           1           0           0  \n",
       "3       2017-06-01  0.011153           0           1           0  \n",
       "4       2017-08-23  0.013064           1           0           0  "
      ]
     },
     "execution_count": 37,
     "metadata": {},
     "output_type": "execute_result"
    }
   ],
   "source": [
    "# encode\n",
    "df_modeling = pd.get_dummies(data=df, columns=['fips'])\n",
    "df_modeling.head()"
   ]
  },
  {
   "cell_type": "code",
   "execution_count": 38,
   "id": "69423c85-392e-47e3-ab96-36cfccdd37d7",
   "metadata": {},
   "outputs": [],
   "source": [
    "# drop columns not useful for modling\n",
    "df_modeling = df_modeling.drop(columns=['prop_tax', 'tax_rate'])"
   ]
  },
  {
   "cell_type": "code",
   "execution_count": 39,
   "id": "95467268-671e-4171-b416-a85232826b35",
   "metadata": {},
   "outputs": [
    {
     "data": {
      "text/html": [
       "<div>\n",
       "<style scoped>\n",
       "    .dataframe tbody tr th:only-of-type {\n",
       "        vertical-align: middle;\n",
       "    }\n",
       "\n",
       "    .dataframe tbody tr th {\n",
       "        vertical-align: top;\n",
       "    }\n",
       "\n",
       "    .dataframe thead th {\n",
       "        text-align: right;\n",
       "    }\n",
       "</style>\n",
       "<table border=\"1\" class=\"dataframe\">\n",
       "  <thead>\n",
       "    <tr style=\"text-align: right;\">\n",
       "      <th></th>\n",
       "      <th>bedroom_cnt</th>\n",
       "      <th>bathroom_cnt</th>\n",
       "      <th>sqft</th>\n",
       "      <th>appraised_value</th>\n",
       "      <th>year_built</th>\n",
       "      <th>transaction_date</th>\n",
       "      <th>fips_06037</th>\n",
       "      <th>fips_06059</th>\n",
       "      <th>fips_06111</th>\n",
       "    </tr>\n",
       "  </thead>\n",
       "  <tbody>\n",
       "    <tr>\n",
       "      <th>0</th>\n",
       "      <td>3</td>\n",
       "      <td>2.0</td>\n",
       "      <td>1316</td>\n",
       "      <td>205123.0</td>\n",
       "      <td>1923</td>\n",
       "      <td>2017-07-21</td>\n",
       "      <td>1</td>\n",
       "      <td>0</td>\n",
       "      <td>0</td>\n",
       "    </tr>\n",
       "    <tr>\n",
       "      <th>1</th>\n",
       "      <td>3</td>\n",
       "      <td>2.0</td>\n",
       "      <td>1458</td>\n",
       "      <td>136104.0</td>\n",
       "      <td>1970</td>\n",
       "      <td>2017-06-23</td>\n",
       "      <td>1</td>\n",
       "      <td>0</td>\n",
       "      <td>0</td>\n",
       "    </tr>\n",
       "    <tr>\n",
       "      <th>2</th>\n",
       "      <td>2</td>\n",
       "      <td>1.0</td>\n",
       "      <td>1421</td>\n",
       "      <td>35606.0</td>\n",
       "      <td>1911</td>\n",
       "      <td>2017-06-30</td>\n",
       "      <td>1</td>\n",
       "      <td>0</td>\n",
       "      <td>0</td>\n",
       "    </tr>\n",
       "    <tr>\n",
       "      <th>3</th>\n",
       "      <td>4</td>\n",
       "      <td>3.0</td>\n",
       "      <td>2541</td>\n",
       "      <td>880456.0</td>\n",
       "      <td>2003</td>\n",
       "      <td>2017-06-01</td>\n",
       "      <td>0</td>\n",
       "      <td>1</td>\n",
       "      <td>0</td>\n",
       "    </tr>\n",
       "    <tr>\n",
       "      <th>4</th>\n",
       "      <td>3</td>\n",
       "      <td>2.0</td>\n",
       "      <td>1491</td>\n",
       "      <td>107110.0</td>\n",
       "      <td>1955</td>\n",
       "      <td>2017-08-23</td>\n",
       "      <td>1</td>\n",
       "      <td>0</td>\n",
       "      <td>0</td>\n",
       "    </tr>\n",
       "  </tbody>\n",
       "</table>\n",
       "</div>"
      ],
      "text/plain": [
       "   bedroom_cnt  bathroom_cnt  sqft  appraised_value  year_built  \\\n",
       "0            3           2.0  1316         205123.0        1923   \n",
       "1            3           2.0  1458         136104.0        1970   \n",
       "2            2           1.0  1421          35606.0        1911   \n",
       "3            4           3.0  2541         880456.0        2003   \n",
       "4            3           2.0  1491         107110.0        1955   \n",
       "\n",
       "  transaction_date  fips_06037  fips_06059  fips_06111  \n",
       "0       2017-07-21           1           0           0  \n",
       "1       2017-06-23           1           0           0  \n",
       "2       2017-06-30           1           0           0  \n",
       "3       2017-06-01           0           1           0  \n",
       "4       2017-08-23           1           0           0  "
      ]
     },
     "execution_count": 39,
     "metadata": {},
     "output_type": "execute_result"
    }
   ],
   "source": [
    "df_modeling.head()"
   ]
  },
  {
   "cell_type": "code",
   "execution_count": 40,
   "id": "b2fdde7b-a9a7-41f2-ab68-a31f10c9efa1",
   "metadata": {},
   "outputs": [
    {
     "data": {
      "text/plain": [
       "((19207, 9), (2374, 9), (2398, 9))"
      ]
     },
     "execution_count": 40,
     "metadata": {},
     "output_type": "execute_result"
    }
   ],
   "source": [
    "#split encoded\n",
    "train_encoded, validate_encoded, test_encoded = w.split_zillow(df_modeling)\n",
    "train_encoded.shape, validate_encoded.shape, test_encoded.shape"
   ]
  },
  {
   "cell_type": "code",
   "execution_count": 41,
   "id": "d7cc0f79-31bc-4e90-bae1-424bd51ee425",
   "metadata": {},
   "outputs": [
    {
     "data": {
      "text/html": [
       "<div>\n",
       "<style scoped>\n",
       "    .dataframe tbody tr th:only-of-type {\n",
       "        vertical-align: middle;\n",
       "    }\n",
       "\n",
       "    .dataframe tbody tr th {\n",
       "        vertical-align: top;\n",
       "    }\n",
       "\n",
       "    .dataframe thead th {\n",
       "        text-align: right;\n",
       "    }\n",
       "</style>\n",
       "<table border=\"1\" class=\"dataframe\">\n",
       "  <thead>\n",
       "    <tr style=\"text-align: right;\">\n",
       "      <th></th>\n",
       "      <th>bedroom_cnt</th>\n",
       "      <th>bathroom_cnt</th>\n",
       "      <th>sqft</th>\n",
       "      <th>appraised_value</th>\n",
       "      <th>year_built</th>\n",
       "      <th>transaction_date</th>\n",
       "      <th>fips_06037</th>\n",
       "      <th>fips_06059</th>\n",
       "      <th>fips_06111</th>\n",
       "    </tr>\n",
       "  </thead>\n",
       "  <tbody>\n",
       "    <tr>\n",
       "      <th>801</th>\n",
       "      <td>4</td>\n",
       "      <td>3.0</td>\n",
       "      <td>1859</td>\n",
       "      <td>349142.0</td>\n",
       "      <td>2005</td>\n",
       "      <td>2017-05-03</td>\n",
       "      <td>0</td>\n",
       "      <td>1</td>\n",
       "      <td>0</td>\n",
       "    </tr>\n",
       "    <tr>\n",
       "      <th>21286</th>\n",
       "      <td>3</td>\n",
       "      <td>3.0</td>\n",
       "      <td>2130</td>\n",
       "      <td>277000.0</td>\n",
       "      <td>1988</td>\n",
       "      <td>2017-07-31</td>\n",
       "      <td>1</td>\n",
       "      <td>0</td>\n",
       "      <td>0</td>\n",
       "    </tr>\n",
       "    <tr>\n",
       "      <th>1527</th>\n",
       "      <td>3</td>\n",
       "      <td>1.0</td>\n",
       "      <td>1025</td>\n",
       "      <td>62599.0</td>\n",
       "      <td>1954</td>\n",
       "      <td>2017-05-05</td>\n",
       "      <td>1</td>\n",
       "      <td>0</td>\n",
       "      <td>0</td>\n",
       "    </tr>\n",
       "    <tr>\n",
       "      <th>4888</th>\n",
       "      <td>3</td>\n",
       "      <td>2.0</td>\n",
       "      <td>1457</td>\n",
       "      <td>367859.0</td>\n",
       "      <td>1986</td>\n",
       "      <td>2017-05-22</td>\n",
       "      <td>0</td>\n",
       "      <td>1</td>\n",
       "      <td>0</td>\n",
       "    </tr>\n",
       "    <tr>\n",
       "      <th>17662</th>\n",
       "      <td>4</td>\n",
       "      <td>2.0</td>\n",
       "      <td>1386</td>\n",
       "      <td>487000.0</td>\n",
       "      <td>1965</td>\n",
       "      <td>2017-07-14</td>\n",
       "      <td>0</td>\n",
       "      <td>1</td>\n",
       "      <td>0</td>\n",
       "    </tr>\n",
       "  </tbody>\n",
       "</table>\n",
       "</div>"
      ],
      "text/plain": [
       "       bedroom_cnt  bathroom_cnt  sqft  appraised_value  year_built  \\\n",
       "801              4           3.0  1859         349142.0        2005   \n",
       "21286            3           3.0  2130         277000.0        1988   \n",
       "1527             3           1.0  1025          62599.0        1954   \n",
       "4888             3           2.0  1457         367859.0        1986   \n",
       "17662            4           2.0  1386         487000.0        1965   \n",
       "\n",
       "      transaction_date  fips_06037  fips_06059  fips_06111  \n",
       "801         2017-05-03           0           1           0  \n",
       "21286       2017-07-31           1           0           0  \n",
       "1527        2017-05-05           1           0           0  \n",
       "4888        2017-05-22           0           1           0  \n",
       "17662       2017-07-14           0           1           0  "
      ]
     },
     "execution_count": 41,
     "metadata": {},
     "output_type": "execute_result"
    }
   ],
   "source": [
    "train_encoded.head()"
   ]
  },
  {
   "cell_type": "code",
   "execution_count": 42,
   "id": "6be5f930-733b-4e23-b785-550838def0fe",
   "metadata": {},
   "outputs": [],
   "source": [
    "# remove columns derived from target before exploration\n",
    "df_exploration = df.drop(columns=['prop_tax', 'tax_rate'])"
   ]
  },
  {
   "cell_type": "code",
   "execution_count": 43,
   "id": "0a6fe876-537c-4d78-8d11-484244576c9b",
   "metadata": {},
   "outputs": [
    {
     "data": {
      "text/plain": [
       "((19207, 7), (2374, 7), (2398, 7))"
      ]
     },
     "execution_count": 43,
     "metadata": {},
     "output_type": "execute_result"
    }
   ],
   "source": [
    "# split for exploration\n",
    "train_explore, validate_explore, test_explore = w.split_zillow(df_exploration)\n",
    "train_explore.shape, validate_explore.shape, test_explore.shape"
   ]
  },
  {
   "cell_type": "code",
   "execution_count": 44,
   "id": "46d8b4a6-d4d3-4b81-ac38-be1ece368eea",
   "metadata": {},
   "outputs": [
    {
     "data": {
      "text/html": [
       "<div>\n",
       "<style scoped>\n",
       "    .dataframe tbody tr th:only-of-type {\n",
       "        vertical-align: middle;\n",
       "    }\n",
       "\n",
       "    .dataframe tbody tr th {\n",
       "        vertical-align: top;\n",
       "    }\n",
       "\n",
       "    .dataframe thead th {\n",
       "        text-align: right;\n",
       "    }\n",
       "</style>\n",
       "<table border=\"1\" class=\"dataframe\">\n",
       "  <thead>\n",
       "    <tr style=\"text-align: right;\">\n",
       "      <th></th>\n",
       "      <th>bedroom_cnt</th>\n",
       "      <th>bathroom_cnt</th>\n",
       "      <th>sqft</th>\n",
       "      <th>appraised_value</th>\n",
       "      <th>year_built</th>\n",
       "      <th>fips</th>\n",
       "      <th>transaction_date</th>\n",
       "    </tr>\n",
       "  </thead>\n",
       "  <tbody>\n",
       "    <tr>\n",
       "      <th>801</th>\n",
       "      <td>4</td>\n",
       "      <td>3.0</td>\n",
       "      <td>1859</td>\n",
       "      <td>349142.0</td>\n",
       "      <td>2005</td>\n",
       "      <td>06059</td>\n",
       "      <td>2017-05-03</td>\n",
       "    </tr>\n",
       "    <tr>\n",
       "      <th>21286</th>\n",
       "      <td>3</td>\n",
       "      <td>3.0</td>\n",
       "      <td>2130</td>\n",
       "      <td>277000.0</td>\n",
       "      <td>1988</td>\n",
       "      <td>06037</td>\n",
       "      <td>2017-07-31</td>\n",
       "    </tr>\n",
       "    <tr>\n",
       "      <th>1527</th>\n",
       "      <td>3</td>\n",
       "      <td>1.0</td>\n",
       "      <td>1025</td>\n",
       "      <td>62599.0</td>\n",
       "      <td>1954</td>\n",
       "      <td>06037</td>\n",
       "      <td>2017-05-05</td>\n",
       "    </tr>\n",
       "    <tr>\n",
       "      <th>4888</th>\n",
       "      <td>3</td>\n",
       "      <td>2.0</td>\n",
       "      <td>1457</td>\n",
       "      <td>367859.0</td>\n",
       "      <td>1986</td>\n",
       "      <td>06059</td>\n",
       "      <td>2017-05-22</td>\n",
       "    </tr>\n",
       "    <tr>\n",
       "      <th>17662</th>\n",
       "      <td>4</td>\n",
       "      <td>2.0</td>\n",
       "      <td>1386</td>\n",
       "      <td>487000.0</td>\n",
       "      <td>1965</td>\n",
       "      <td>06059</td>\n",
       "      <td>2017-07-14</td>\n",
       "    </tr>\n",
       "  </tbody>\n",
       "</table>\n",
       "</div>"
      ],
      "text/plain": [
       "       bedroom_cnt  bathroom_cnt  sqft  appraised_value  year_built   fips  \\\n",
       "801              4           3.0  1859         349142.0        2005  06059   \n",
       "21286            3           3.0  2130         277000.0        1988  06037   \n",
       "1527             3           1.0  1025          62599.0        1954  06037   \n",
       "4888             3           2.0  1457         367859.0        1986  06059   \n",
       "17662            4           2.0  1386         487000.0        1965  06059   \n",
       "\n",
       "      transaction_date  \n",
       "801         2017-05-03  \n",
       "21286       2017-07-31  \n",
       "1527        2017-05-05  \n",
       "4888        2017-05-22  \n",
       "17662       2017-07-14  "
      ]
     },
     "execution_count": 44,
     "metadata": {},
     "output_type": "execute_result"
    }
   ],
   "source": [
    "train_explore.head()"
   ]
  },
  {
   "cell_type": "code",
   "execution_count": 45,
   "id": "032120a2-2b2c-439f-a0d0-d1c9d2bae8c7",
   "metadata": {},
   "outputs": [],
   "source": [
    "# scale\n",
    "cols = ['bedroom_cnt', 'bathroom_cnt', 'sqft', 'year_built']"
   ]
  },
  {
   "cell_type": "code",
   "execution_count": 46,
   "id": "38326d86-3a4b-49e5-b2fe-400e66db3ec6",
   "metadata": {},
   "outputs": [],
   "source": [
    "train_scaled, validate_scaled, test_scaled = w.add_scaled_columns(train_encoded, validate_encoded, test_encoded, MinMaxScaler(), cols)"
   ]
  },
  {
   "cell_type": "code",
   "execution_count": 47,
   "id": "e837b2e3-b83d-48e4-a615-8c707b1ead80",
   "metadata": {},
   "outputs": [
    {
     "data": {
      "text/html": [
       "<div>\n",
       "<style scoped>\n",
       "    .dataframe tbody tr th:only-of-type {\n",
       "        vertical-align: middle;\n",
       "    }\n",
       "\n",
       "    .dataframe tbody tr th {\n",
       "        vertical-align: top;\n",
       "    }\n",
       "\n",
       "    .dataframe thead th {\n",
       "        text-align: right;\n",
       "    }\n",
       "</style>\n",
       "<table border=\"1\" class=\"dataframe\">\n",
       "  <thead>\n",
       "    <tr style=\"text-align: right;\">\n",
       "      <th></th>\n",
       "      <th>appraised_value</th>\n",
       "      <th>transaction_date</th>\n",
       "      <th>fips_06037</th>\n",
       "      <th>fips_06059</th>\n",
       "      <th>fips_06111</th>\n",
       "      <th>bedroom_cnt_scaled</th>\n",
       "      <th>bathroom_cnt_scaled</th>\n",
       "      <th>sqft_scaled</th>\n",
       "      <th>year_built_scaled</th>\n",
       "    </tr>\n",
       "  </thead>\n",
       "  <tbody>\n",
       "    <tr>\n",
       "      <th>801</th>\n",
       "      <td>349142.0</td>\n",
       "      <td>2017-05-03</td>\n",
       "      <td>0</td>\n",
       "      <td>1</td>\n",
       "      <td>0</td>\n",
       "      <td>0.666667</td>\n",
       "      <td>0.666667</td>\n",
       "      <td>0.439222</td>\n",
       "      <td>0.904762</td>\n",
       "    </tr>\n",
       "    <tr>\n",
       "      <th>21286</th>\n",
       "      <td>277000.0</td>\n",
       "      <td>2017-07-31</td>\n",
       "      <td>1</td>\n",
       "      <td>0</td>\n",
       "      <td>0</td>\n",
       "      <td>0.333333</td>\n",
       "      <td>0.666667</td>\n",
       "      <td>0.527066</td>\n",
       "      <td>0.742857</td>\n",
       "    </tr>\n",
       "    <tr>\n",
       "      <th>1527</th>\n",
       "      <td>62599.0</td>\n",
       "      <td>2017-05-05</td>\n",
       "      <td>1</td>\n",
       "      <td>0</td>\n",
       "      <td>0</td>\n",
       "      <td>0.333333</td>\n",
       "      <td>0.000000</td>\n",
       "      <td>0.168882</td>\n",
       "      <td>0.419048</td>\n",
       "    </tr>\n",
       "    <tr>\n",
       "      <th>4888</th>\n",
       "      <td>367859.0</td>\n",
       "      <td>2017-05-22</td>\n",
       "      <td>0</td>\n",
       "      <td>1</td>\n",
       "      <td>0</td>\n",
       "      <td>0.333333</td>\n",
       "      <td>0.333333</td>\n",
       "      <td>0.308914</td>\n",
       "      <td>0.723810</td>\n",
       "    </tr>\n",
       "    <tr>\n",
       "      <th>17662</th>\n",
       "      <td>487000.0</td>\n",
       "      <td>2017-07-14</td>\n",
       "      <td>0</td>\n",
       "      <td>1</td>\n",
       "      <td>0</td>\n",
       "      <td>0.666667</td>\n",
       "      <td>0.333333</td>\n",
       "      <td>0.285900</td>\n",
       "      <td>0.523810</td>\n",
       "    </tr>\n",
       "  </tbody>\n",
       "</table>\n",
       "</div>"
      ],
      "text/plain": [
       "       appraised_value transaction_date  fips_06037  fips_06059  fips_06111  \\\n",
       "801           349142.0       2017-05-03           0           1           0   \n",
       "21286         277000.0       2017-07-31           1           0           0   \n",
       "1527           62599.0       2017-05-05           1           0           0   \n",
       "4888          367859.0       2017-05-22           0           1           0   \n",
       "17662         487000.0       2017-07-14           0           1           0   \n",
       "\n",
       "       bedroom_cnt_scaled  bathroom_cnt_scaled  sqft_scaled  year_built_scaled  \n",
       "801              0.666667             0.666667     0.439222           0.904762  \n",
       "21286            0.333333             0.666667     0.527066           0.742857  \n",
       "1527             0.333333             0.000000     0.168882           0.419048  \n",
       "4888             0.333333             0.333333     0.308914           0.723810  \n",
       "17662            0.666667             0.333333     0.285900           0.523810  "
      ]
     },
     "execution_count": 47,
     "metadata": {},
     "output_type": "execute_result"
    }
   ],
   "source": [
    "train_scaled.head()"
   ]
  },
  {
   "cell_type": "markdown",
   "id": "561dfeaa-9ec3-46b1-9d3d-db10ab83a3ef",
   "metadata": {},
   "source": [
    "---\n",
    "## Explore\n",
    "---"
   ]
  },
  {
   "cell_type": "code",
   "execution_count": null,
   "id": "12e49a62-4e36-4e31-9fc6-aa41b561ce23",
   "metadata": {},
   "outputs": [],
   "source": []
  },
  {
   "cell_type": "markdown",
   "id": "25add842-13d3-4824-b81d-c54c057419f7",
   "metadata": {},
   "source": [
    "---\n",
    "## Model/Evaluate\n",
    "---"
   ]
  },
  {
   "cell_type": "code",
   "execution_count": null,
   "id": "536e03ef-a3bb-4ad7-a1d9-a5fa8ad4c0dd",
   "metadata": {},
   "outputs": [],
   "source": []
  }
 ],
 "metadata": {
  "kernelspec": {
   "display_name": "Python 3",
   "language": "python",
   "name": "python3"
  },
  "language_info": {
   "codemirror_mode": {
    "name": "ipython",
    "version": 3
   },
   "file_extension": ".py",
   "mimetype": "text/x-python",
   "name": "python",
   "nbconvert_exporter": "python",
   "pygments_lexer": "ipython3",
   "version": "3.8.8"
  }
 },
 "nbformat": 4,
 "nbformat_minor": 5
}
